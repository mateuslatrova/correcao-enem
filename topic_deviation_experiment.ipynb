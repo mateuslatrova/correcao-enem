{
 "cells": [
  {
   "cell_type": "markdown",
   "metadata": {},
   "source": [
    "### Imports"
   ]
  },
  {
   "cell_type": "code",
   "execution_count": 1,
   "metadata": {},
   "outputs": [
    {
     "name": "stderr",
     "output_type": "stream",
     "text": [
      "/home/mateuslatrova/anaconda3/envs/enem/lib/python3.9/site-packages/tqdm/auto.py:21: TqdmWarning: IProgress not found. Please update jupyter and ipywidgets. See https://ipywidgets.readthedocs.io/en/stable/user_install.html\n",
      "  from .autonotebook import tqdm as notebook_tqdm\n"
     ]
    }
   ],
   "source": [
    "import os\n",
    "import random\n",
    "\n",
    "from datasets import (\n",
    "    concatenate_datasets,\n",
    "    Dataset,\n",
    "    DatasetDict,\n",
    "    load_dataset,\n",
    "    load_from_disk,\n",
    ")\n",
    "import evaluate\n",
    "import numpy as np\n",
    "import pandas as pd\n",
    "import torch\n",
    "from transformers import (\n",
    "    AutoTokenizer,\n",
    "    AutoModelForPreTraining,\n",
    "    AutoModel,\n",
    "    AutoModelForSequenceClassification,\n",
    "    DataCollatorWithPadding,\n",
    "    Trainer,\n",
    "    TrainingArguments,\n",
    ")"
   ]
  },
  {
   "cell_type": "markdown",
   "metadata": {},
   "source": [
    "### Variáveis \"globais\""
   ]
  },
  {
   "cell_type": "code",
   "execution_count": 42,
   "metadata": {},
   "outputs": [],
   "source": [
    "checkpoint = \"neuralmind/bert-base-portuguese-cased\"\n",
    "\n",
    "raw_files_dirpath = os.path.abspath(\"data/raw\")\n",
    "preprocessed_files_dirpath = os.path.abspath(\"data/preprocessed/\")\n",
    "processed_files_dirpath = os.path.abspath(\"data/processed/\")\n",
    "\n",
    "raw_files_extension = \".csv\"\n",
    "\n",
    "raw_essay_filename = \"redacoes\"\n",
    "raw_topic_filename = \"temas\"\n",
    "\n",
    "preprocessed_essay_filename = \"redacoes_fuga_do_tema\"\n",
    "preprocessed_topic_filename = \"temas_fuga_do_tema\"\n",
    "\n",
    "topic_deviation_dataset_filename = \"fuga_do_tema\"\n",
    "\n",
    "raw_essay_dataset_filepath = os.path.join(\n",
    "    raw_files_dirpath, raw_essay_filename + raw_files_extension\n",
    ")\n",
    "raw_topic_dataset_filepath = os.path.join(\n",
    "    raw_files_dirpath, raw_topic_filename + raw_files_extension\n",
    ")\n",
    "preprocessed_essay_dataset_filepath = os.path.join(\n",
    "    preprocessed_files_dirpath, preprocessed_essay_filename\n",
    ")\n",
    "preprocessed_topic_dataset_filepath = os.path.join(\n",
    "    preprocessed_files_dirpath, preprocessed_topic_filename\n",
    ")\n",
    "\n",
    "processed_dataset_filepath = os.path.join(processed_files_dirpath, topic_deviation_dataset_filename)"
   ]
  },
  {
   "cell_type": "markdown",
   "metadata": {},
   "source": [
    "## Exploração do dataset de redações"
   ]
  },
  {
   "cell_type": "markdown",
   "metadata": {},
   "source": [
    "### Carregamento e primeiro contato com os dados"
   ]
  },
  {
   "cell_type": "code",
   "execution_count": 4,
   "metadata": {},
   "outputs": [
    {
     "name": "stderr",
     "output_type": "stream",
     "text": [
      "Downloading data files: 100%|██████████| 1/1 [00:00<00:00, 3536.51it/s]\n",
      "Extracting data files: 100%|██████████| 1/1 [00:00<00:00, 91.02it/s]\n",
      "Generating train split: 385 examples [00:00, 4335.87 examples/s]\n"
     ]
    },
    {
     "data": {
      "text/html": [
       "<div>\n",
       "<style scoped>\n",
       "    .dataframe tbody tr th:only-of-type {\n",
       "        vertical-align: middle;\n",
       "    }\n",
       "\n",
       "    .dataframe tbody tr th {\n",
       "        vertical-align: top;\n",
       "    }\n",
       "\n",
       "    .dataframe thead th {\n",
       "        text-align: right;\n",
       "    }\n",
       "</style>\n",
       "<table border=\"1\" class=\"dataframe\">\n",
       "  <thead>\n",
       "    <tr style=\"text-align: right;\">\n",
       "      <th></th>\n",
       "      <th>id</th>\n",
       "      <th>id_prompt</th>\n",
       "      <th>title</th>\n",
       "      <th>essay</th>\n",
       "      <th>grades</th>\n",
       "      <th>final_grade</th>\n",
       "      <th>is_ENEM</th>\n",
       "      <th>is_convertible</th>\n",
       "      <th>general</th>\n",
       "      <th>specific</th>\n",
       "    </tr>\n",
       "  </thead>\n",
       "  <tbody>\n",
       "    <tr>\n",
       "      <th>0</th>\n",
       "      <td>0</td>\n",
       "      <td>0</td>\n",
       "      <td>O estudo é a base para melhorar de vida</td>\n",
       "      <td>['Com os avanços que a sociedade deu em tecnol...</td>\n",
       "      <td>[160, 200, 200, 160, 160]</td>\n",
       "      <td>880</td>\n",
       "      <td>True</td>\n",
       "      <td>True</td>\n",
       "      <td>Texto muito bom, um pouco prejudicado pelos as...</td>\n",
       "      <td>['1) Há um certo número de problemas de lingua...</td>\n",
       "    </tr>\n",
       "    <tr>\n",
       "      <th>1</th>\n",
       "      <td>1</td>\n",
       "      <td>0</td>\n",
       "      <td>O mal do século e o combate através da fé</td>\n",
       "      <td>['De acordo com pesquisas, o Brasil é o país d...</td>\n",
       "      <td>[120, 120, 120, 160, 120]</td>\n",
       "      <td>640</td>\n",
       "      <td>True</td>\n",
       "      <td>True</td>\n",
       "      <td>Diz um linguista que comunicação é o que o lei...</td>\n",
       "      <td>['1) O texto não apresenta problemas graves de...</td>\n",
       "    </tr>\n",
       "    <tr>\n",
       "      <th>2</th>\n",
       "      <td>2</td>\n",
       "      <td>0</td>\n",
       "      <td>Em uma pesquisa recente</td>\n",
       "      <td>['Em uma pesquisa recente realizada pela ONG O...</td>\n",
       "      <td>[120, 80, 120, 80, 120]</td>\n",
       "      <td>520</td>\n",
       "      <td>True</td>\n",
       "      <td>True</td>\n",
       "      <td>Texto fraco, que apenas tangencia o tema, dedi...</td>\n",
       "      <td>['1) O autor se expressa com dificuldade. Bast...</td>\n",
       "    </tr>\n",
       "    <tr>\n",
       "      <th>3</th>\n",
       "      <td>3</td>\n",
       "      <td>0</td>\n",
       "      <td>O conhecimento liberta</td>\n",
       "      <td>['A ideia de vencer na vida, presente no imagi...</td>\n",
       "      <td>[160, 200, 160, 200, 160]</td>\n",
       "      <td>880</td>\n",
       "      <td>True</td>\n",
       "      <td>True</td>\n",
       "      <td>Texto muito bom, com pequenos problemas menore...</td>\n",
       "      <td>['1) Texto muito bem escrito, com alguns probl...</td>\n",
       "    </tr>\n",
       "    <tr>\n",
       "      <th>4</th>\n",
       "      <td>4</td>\n",
       "      <td>0</td>\n",
       "      <td>O caminho do sucesso</td>\n",
       "      <td>['O caminho do sucesso', 'É de fundamental imp...</td>\n",
       "      <td>[120, 80, 40, 40, 80]</td>\n",
       "      <td>360</td>\n",
       "      <td>False</td>\n",
       "      <td>True</td>\n",
       "      <td>Lamentavelmente, o texto é muito fraco, em esp...</td>\n",
       "      <td>['1) O autor tem uma dificuldade de se express...</td>\n",
       "    </tr>\n",
       "  </tbody>\n",
       "</table>\n",
       "</div>"
      ],
      "text/plain": [
       "   id  id_prompt                                      title  \\\n",
       "0   0          0    O estudo é a base para melhorar de vida   \n",
       "1   1          0  O mal do século e o combate através da fé   \n",
       "2   2          0                    Em uma pesquisa recente   \n",
       "3   3          0                     O conhecimento liberta   \n",
       "4   4          0                       O caminho do sucesso   \n",
       "\n",
       "                                               essay  \\\n",
       "0  ['Com os avanços que a sociedade deu em tecnol...   \n",
       "1  ['De acordo com pesquisas, o Brasil é o país d...   \n",
       "2  ['Em uma pesquisa recente realizada pela ONG O...   \n",
       "3  ['A ideia de vencer na vida, presente no imagi...   \n",
       "4  ['O caminho do sucesso', 'É de fundamental imp...   \n",
       "\n",
       "                      grades  final_grade  is_ENEM  is_convertible  \\\n",
       "0  [160, 200, 200, 160, 160]          880     True            True   \n",
       "1  [120, 120, 120, 160, 120]          640     True            True   \n",
       "2    [120, 80, 120, 80, 120]          520     True            True   \n",
       "3  [160, 200, 160, 200, 160]          880     True            True   \n",
       "4      [120, 80, 40, 40, 80]          360    False            True   \n",
       "\n",
       "                                             general  \\\n",
       "0  Texto muito bom, um pouco prejudicado pelos as...   \n",
       "1  Diz um linguista que comunicação é o que o lei...   \n",
       "2  Texto fraco, que apenas tangencia o tema, dedi...   \n",
       "3  Texto muito bom, com pequenos problemas menore...   \n",
       "4  Lamentavelmente, o texto é muito fraco, em esp...   \n",
       "\n",
       "                                            specific  \n",
       "0  ['1) Há um certo número de problemas de lingua...  \n",
       "1  ['1) O texto não apresenta problemas graves de...  \n",
       "2  ['1) O autor se expressa com dificuldade. Bast...  \n",
       "3  ['1) Texto muito bem escrito, com alguns probl...  \n",
       "4  ['1) O autor tem uma dificuldade de se express...  "
      ]
     },
     "execution_count": 4,
     "metadata": {},
     "output_type": "execute_result"
    }
   ],
   "source": [
    "dataset = load_dataset(\"csv\", data_files=raw_essay_dataset_filepath)\n",
    "\n",
    "train_dataset = dataset[\"train\"]\n",
    "train_dataset.set_format(\"pandas\")\n",
    "train_dataset_df = train_dataset[:]\n",
    "train_dataset_df.head()"
   ]
  },
  {
   "cell_type": "markdown",
   "metadata": {},
   "source": [
    "### Validando o formato das redações"
   ]
  },
  {
   "cell_type": "code",
   "execution_count": 8,
   "metadata": {},
   "outputs": [
    {
     "data": {
      "text/plain": [
       "[\"['O carnaval chegou ao Brasil no período colonial assim sendo os escravos pintava os rostos e saiam nas ruas. Tradicionalmente aos católicos é o marco do início da Quaresma 40 dias segue até a sexta-feira santa dois Dias antes da Páscoa.', 'Em primeira análise, o governador Federal libera um valor a cada estado ao incentivo à cultura, empresas privadas destinam partes dos impostos e aplica em eventos da festa.', 'Em segunda análise a brincadeira que encanta diversos turistas de toda nação atrai, também a grandes riscos de vícios e desidratação aos cidadãos no desfile promovendo postos de ambulâncias e policiamento devida a negligencia humana ocasiona mortes acidentais.', 'Por fim, em 2020, a escola de samba de São Clemente no figurino teve o enredo o Presidente da República, embora o carnavalesco pode-se ser usado para manifestar insatisfações sociais.', 'Então, o MINSTÉRIO DA EDUCAÇÃO deve repensar, e assim veria que vale mais gastar o dinheiro da festa carnavalesca com criação de mais escolas com qualidade, mais hospitais públicos, investir em saneamento básico e por fim veria que o carnal de fato não é o símbolo da nacionalidade brasileira do século XXI.']\",\n",
       " \"['Os julgamentos dos casos de corrupção, decisões de temas sensíveis como drogas e a possibilidade de regulamentação do aborto e o aumento das discussões sobre esses tópicos pelas redes sociais graças à internet, fizeram com que o Supremo Tribunal Federal entrasse de vez no debate público.', 'Com a promulgação da Constituição de 88, o STF passou a ser expressamente incumbido de guardar a Carta Maior. Dessa forma, ficou responsável por dar a última palavra sobre a interpretação que a Administração Pública deveria ter acerca dos temas relacionados à constituição.', 'Apesar de no início dessa responsabilidade, lidar precipuamente com questões administrativas, com o amadurecimento da sociedade e o curso regular das instituições, novas questões demandaram a atuação do Supremo, destacando-se, primeiramente, os julgamentos dos casos de corrupção, notadamente o mais famoso, o caso do Mensalão que direcionou os olhos da sociedade para a Corte.', 'Em que pese a atuação em casos criminais citados acima, com o amadurecimento da sociedade, temas que, em tese, deveriam ser discutidos no Congresso, acabam entrando na pauta do STF por envolverem pontos sensíveis da Constituição como os direitos fundamentais. Tópicos como a legalização do aborto e de certas drogas que movimentam os debates sociais na internet e focalizam o STF com a última palavra.', 'Assim, apesar do destaque que vem ganhando nos últimos anos, o STF, como Corte Constitucional, deve se ater estritamente na proteção da constituição, não se deixando levar pela paixão da opinião pública em seus julgamentos. Da mesma forma, não invadindo a competência de legislar que cabe aos representantes do povo no Congresso Nacional.']\",\n",
       " \"['Estamos vivendo uma epidemia de obesidade e sobrepeso em grande parte do planeta.', 'É necessário reverter esta situação, conscientizando e alertando as pessoas a respeito dos perigos deste mal.', 'É comprovado pela ciência e pela medicina, que o excesso de peso pode acarretar sérios problemas e riscos à saúde da população, com o surgimento de muitas doenças e outros males.', 'Muitas vezes, uma alimentação errada, como as comidas fast food, refrigerantes, salgadinhos, doces, chocolates, etc., contribuem para que as pessoas fiquem com o peso elevado.', 'Talvez, então, a solução esteja no consumo de alimentos menos calóricos e a mudança nos hábitos alimentares, uma boa dieta, além da prática regular de atividades e exercícios físicos nas academias.', 'Só assim, estaremos tomando medidas para combater o sobrepeso e ter um padrão e uma qualidade de vida mais saudável.']\"]"
      ]
     },
     "execution_count": 8,
     "metadata": {},
     "output_type": "execute_result"
    }
   ],
   "source": [
    "samples = train_dataset.shuffle(7).select(range(3))\n",
    "samples.set_format(\"pandas\")\n",
    "samples_df = samples[:]\n",
    "essay_examples = samples_df[\"essay\"].tolist()\n",
    "essay_examples"
   ]
  },
  {
   "cell_type": "code",
   "execution_count": 9,
   "metadata": {},
   "outputs": [
    {
     "data": {
      "text/plain": [
       "{True}"
      ]
     },
     "execution_count": 9,
     "metadata": {},
     "output_type": "execute_result"
    }
   ],
   "source": [
    "# Como há apenas valores \"True\" nessa máscara, todas as redações iniciam com '[' e terminam com ']'.\n",
    "mask = (train_dataset_df[\"essay\"].str.startswith(\"[\")) & (\n",
    "    train_dataset_df[\"essay\"].str.endswith(\"]\")\n",
    ")\n",
    "set(mask.values.tolist())"
   ]
  },
  {
   "cell_type": "code",
   "execution_count": 10,
   "metadata": {},
   "outputs": [
    {
     "name": "stdout",
     "output_type": "stream",
     "text": [
      "O carnaval chegou ao Brasil no período colonial assim sendo os escravos pintava os rostos e saiam nas ruas. Tradicionalmente aos católicos é o marco do início da Quaresma 40 dias segue até a sexta-feira santa dois Dias antes da Páscoa.', 'Em primeira análise, o governador Federal libera um valor a cada estado ao incentivo à cultura, empresas privadas destinam partes dos impostos e aplica em eventos da festa.', 'Em segunda análise a brincadeira que encanta diversos turistas de toda nação atrai, também a grandes riscos de vícios e desidratação aos cidadãos no desfile promovendo postos de ambulâncias e policiamento devida a negligencia humana ocasiona mortes acidentais.', 'Por fim, em 2020, a escola de samba de São Clemente no figurino teve o enredo o Presidente da República, embora o carnavalesco pode-se ser usado para manifestar insatisfações sociais.', 'Então, o MINSTÉRIO DA EDUCAÇÃO deve repensar, e assim veria que vale mais gastar o dinheiro da festa carnavalesca com criação de mais escolas com qualidade, mais hospitais públicos, investir em saneamento básico e por fim veria que o carnal de fato não é o símbolo da nacionalidade brasileira do século XXI.\n",
      "Os julgamentos dos casos de corrupção, decisões de temas sensíveis como drogas e a possibilidade de regulamentação do aborto e o aumento das discussões sobre esses tópicos pelas redes sociais graças à internet, fizeram com que o Supremo Tribunal Federal entrasse de vez no debate público.', 'Com a promulgação da Constituição de 88, o STF passou a ser expressamente incumbido de guardar a Carta Maior. Dessa forma, ficou responsável por dar a última palavra sobre a interpretação que a Administração Pública deveria ter acerca dos temas relacionados à constituição.', 'Apesar de no início dessa responsabilidade, lidar precipuamente com questões administrativas, com o amadurecimento da sociedade e o curso regular das instituições, novas questões demandaram a atuação do Supremo, destacando-se, primeiramente, os julgamentos dos casos de corrupção, notadamente o mais famoso, o caso do Mensalão que direcionou os olhos da sociedade para a Corte.', 'Em que pese a atuação em casos criminais citados acima, com o amadurecimento da sociedade, temas que, em tese, deveriam ser discutidos no Congresso, acabam entrando na pauta do STF por envolverem pontos sensíveis da Constituição como os direitos fundamentais. Tópicos como a legalização do aborto e de certas drogas que movimentam os debates sociais na internet e focalizam o STF com a última palavra.', 'Assim, apesar do destaque que vem ganhando nos últimos anos, o STF, como Corte Constitucional, deve se ater estritamente na proteção da constituição, não se deixando levar pela paixão da opinião pública em seus julgamentos. Da mesma forma, não invadindo a competência de legislar que cabe aos representantes do povo no Congresso Nacional.\n",
      "Estamos vivendo uma epidemia de obesidade e sobrepeso em grande parte do planeta.', 'É necessário reverter esta situação, conscientizando e alertando as pessoas a respeito dos perigos deste mal.', 'É comprovado pela ciência e pela medicina, que o excesso de peso pode acarretar sérios problemas e riscos à saúde da população, com o surgimento de muitas doenças e outros males.', 'Muitas vezes, uma alimentação errada, como as comidas fast food, refrigerantes, salgadinhos, doces, chocolates, etc., contribuem para que as pessoas fiquem com o peso elevado.', 'Talvez, então, a solução esteja no consumo de alimentos menos calóricos e a mudança nos hábitos alimentares, uma boa dieta, além da prática regular de atividades e exercícios físicos nas academias.', 'Só assim, estaremos tomando medidas para combater o sobrepeso e ter um padrão e uma qualidade de vida mais saudável.\n"
     ]
    }
   ],
   "source": [
    "# Para remover esses caracteres de início e fim:\n",
    "for example in essay_examples:\n",
    "    print(example.strip(\"['']\"))"
   ]
  },
  {
   "cell_type": "code",
   "execution_count": 11,
   "metadata": {},
   "outputs": [
    {
     "name": "stdout",
     "output_type": "stream",
     "text": [
      "O carnaval chegou ao Brasil no período colonial assim sendo os escravos pintava os rostos e saiam nas ruas. Tradicionalmente aos católicos é o marco do início da Quaresma 40 dias segue até a sexta-feira santa dois Dias antes da Páscoa. Em primeira análise, o governador Federal libera um valor a cada estado ao incentivo à cultura, empresas privadas destinam partes dos impostos e aplica em eventos da festa. Em segunda análise a brincadeira que encanta diversos turistas de toda nação atrai, também a grandes riscos de vícios e desidratação aos cidadãos no desfile promovendo postos de ambulâncias e policiamento devida a negligencia humana ocasiona mortes acidentais. Por fim, em 2020, a escola de samba de São Clemente no figurino teve o enredo o Presidente da República, embora o carnavalesco pode-se ser usado para manifestar insatisfações sociais. Então, o MINSTÉRIO DA EDUCAÇÃO deve repensar, e assim veria que vale mais gastar o dinheiro da festa carnavalesca com criação de mais escolas com qualidade, mais hospitais públicos, investir em saneamento básico e por fim veria que o carnal de fato não é o símbolo da nacionalidade brasileira do século XXI.\n",
      "Os julgamentos dos casos de corrupção, decisões de temas sensíveis como drogas e a possibilidade de regulamentação do aborto e o aumento das discussões sobre esses tópicos pelas redes sociais graças à internet, fizeram com que o Supremo Tribunal Federal entrasse de vez no debate público. Com a promulgação da Constituição de 88, o STF passou a ser expressamente incumbido de guardar a Carta Maior. Dessa forma, ficou responsável por dar a última palavra sobre a interpretação que a Administração Pública deveria ter acerca dos temas relacionados à constituição. Apesar de no início dessa responsabilidade, lidar precipuamente com questões administrativas, com o amadurecimento da sociedade e o curso regular das instituições, novas questões demandaram a atuação do Supremo, destacando-se, primeiramente, os julgamentos dos casos de corrupção, notadamente o mais famoso, o caso do Mensalão que direcionou os olhos da sociedade para a Corte. Em que pese a atuação em casos criminais citados acima, com o amadurecimento da sociedade, temas que, em tese, deveriam ser discutidos no Congresso, acabam entrando na pauta do STF por envolverem pontos sensíveis da Constituição como os direitos fundamentais. Tópicos como a legalização do aborto e de certas drogas que movimentam os debates sociais na internet e focalizam o STF com a última palavra. Assim, apesar do destaque que vem ganhando nos últimos anos, o STF, como Corte Constitucional, deve se ater estritamente na proteção da constituição, não se deixando levar pela paixão da opinião pública em seus julgamentos. Da mesma forma, não invadindo a competência de legislar que cabe aos representantes do povo no Congresso Nacional.\n",
      "Estamos vivendo uma epidemia de obesidade e sobrepeso em grande parte do planeta. É necessário reverter esta situação, conscientizando e alertando as pessoas a respeito dos perigos deste mal. É comprovado pela ciência e pela medicina, que o excesso de peso pode acarretar sérios problemas e riscos à saúde da população, com o surgimento de muitas doenças e outros males. Muitas vezes, uma alimentação errada, como as comidas fast food, refrigerantes, salgadinhos, doces, chocolates, etc., contribuem para que as pessoas fiquem com o peso elevado. Talvez, então, a solução esteja no consumo de alimentos menos calóricos e a mudança nos hábitos alimentares, uma boa dieta, além da prática regular de atividades e exercícios físicos nas academias. Só assim, estaremos tomando medidas para combater o sobrepeso e ter um padrão e uma qualidade de vida mais saudável.\n"
     ]
    }
   ],
   "source": [
    "# Além disso, aparentemente, os parágrafos da redação são iniciados e terminados pelos caracteres \"\\'\" ou apenas \"'\".\n",
    "# Para validar isso, faremos o seguinte teste:\n",
    "for example in essay_examples:\n",
    "    example = example.strip(\"['']\")\n",
    "    removed_quote_and_comma = example.replace(\"',\", \"\")\n",
    "    removed_quote = removed_quote_and_comma.replace(\"'\", \"\")\n",
    "    removed_slash = removed_quote.replace(\"\\\\\", \"\")\n",
    "    print(removed_slash)"
   ]
  },
  {
   "cell_type": "code",
   "execution_count": 12,
   "metadata": {},
   "outputs": [
    {
     "name": "stdout",
     "output_type": "stream",
     "text": [
      "O carnaval chegou ao Brasil no período colonial assim sendo os escravos pintava os rostos e saiam nas ruas. Tradicionalmente aos católicos é o marco do início da Quaresma 40 dias segue até a sexta-feira santa dois Dias antes da Páscoa.Em primeira análise, o governador Federal libera um valor a cada estado ao incentivo à cultura, empresas privadas destinam partes dos impostos e aplica em eventos da festa.Em segunda análise a brincadeira que encanta diversos turistas de toda nação atrai, também a grandes riscos de vícios e desidratação aos cidadãos no desfile promovendo postos de ambulâncias e policiamento devida a negligencia humana ocasiona mortes acidentais.Por fim, em 2020, a escola de samba de São Clemente no figurino teve o enredo o Presidente da República, embora o carnavalesco pode-se ser usado para manifestar insatisfações sociais.Então, o MINSTÉRIO DA EDUCAÇÃO deve repensar, e assim veria que vale mais gastar o dinheiro da festa carnavalesca com criação de mais escolas com qualidade, mais hospitais públicos, investir em saneamento básico e por fim veria que o carnal de fato não é o símbolo da nacionalidade brasileira do século XXI.\n",
      "Os julgamentos dos casos de corrupção, decisões de temas sensíveis como drogas e a possibilidade de regulamentação do aborto e o aumento das discussões sobre esses tópicos pelas redes sociais graças à internet, fizeram com que o Supremo Tribunal Federal entrasse de vez no debate público.Com a promulgação da Constituição de 88, o STF passou a ser expressamente incumbido de guardar a Carta Maior. Dessa forma, ficou responsável por dar a última palavra sobre a interpretação que a Administração Pública deveria ter acerca dos temas relacionados à constituição.Apesar de no início dessa responsabilidade, lidar precipuamente com questões administrativas, com o amadurecimento da sociedade e o curso regular das instituições, novas questões demandaram a atuação do Supremo, destacando-se, primeiramente, os julgamentos dos casos de corrupção, notadamente o mais famoso, o caso do Mensalão que direcionou os olhos da sociedade para a Corte.Em que pese a atuação em casos criminais citados acima, com o amadurecimento da sociedade, temas que, em tese, deveriam ser discutidos no Congresso, acabam entrando na pauta do STF por envolverem pontos sensíveis da Constituição como os direitos fundamentais. Tópicos como a legalização do aborto e de certas drogas que movimentam os debates sociais na internet e focalizam o STF com a última palavra.Assim, apesar do destaque que vem ganhando nos últimos anos, o STF, como Corte Constitucional, deve se ater estritamente na proteção da constituição, não se deixando levar pela paixão da opinião pública em seus julgamentos. Da mesma forma, não invadindo a competência de legislar que cabe aos representantes do povo no Congresso Nacional.\n",
      "Estamos vivendo uma epidemia de obesidade e sobrepeso em grande parte do planeta.É necessário reverter esta situação, conscientizando e alertando as pessoas a respeito dos perigos deste mal.É comprovado pela ciência e pela medicina, que o excesso de peso pode acarretar sérios problemas e riscos à saúde da população, com o surgimento de muitas doenças e outros males.Muitas vezes, uma alimentação errada, como as comidas fast food, refrigerantes, salgadinhos, doces, chocolates, etc., contribuem para que as pessoas fiquem com o peso elevado.Talvez, então, a solução esteja no consumo de alimentos menos calóricos e a mudança nos hábitos alimentares, uma boa dieta, além da prática regular de atividades e exercícios físicos nas academias.Só assim, estaremos tomando medidas para combater o sobrepeso e ter um padrão e uma qualidade de vida mais saudável.\n"
     ]
    }
   ],
   "source": [
    "# Um jeito mais eficiente que descobri para realizar a mesma tarefa:\n",
    "for example in essay_examples:\n",
    "    essay = \"\"\n",
    "    for paragraph in eval(example):\n",
    "        essay += paragraph\n",
    "    print(essay)"
   ]
  },
  {
   "cell_type": "markdown",
   "metadata": {},
   "source": [
    "### Validando o que significa o campo \"id_prompt\""
   ]
  },
  {
   "cell_type": "code",
   "execution_count": 13,
   "metadata": {},
   "outputs": [
    {
     "data": {
      "text/plain": [
       "[(0, 20),\n",
       " (15, 20),\n",
       " (40, 20),\n",
       " (39, 20),\n",
       " (37, 20),\n",
       " (35, 20),\n",
       " (34, 20),\n",
       " (33, 20),\n",
       " (27, 20),\n",
       " (1, 20)]"
      ]
     },
     "execution_count": 13,
     "metadata": {},
     "output_type": "execute_result"
    }
   ],
   "source": [
    "# Validando se o campo \"id_prompt\" é de fato um identificador para o tema da redação\n",
    "id_prompt_to_count = train_dataset_df[\"id_prompt\"].value_counts().to_dict()\n",
    "list(id_prompt_to_count.items())[0:10]"
   ]
  },
  {
   "cell_type": "code",
   "execution_count": 14,
   "metadata": {},
   "outputs": [
    {
     "data": {
      "text/html": [
       "<div>\n",
       "<style scoped>\n",
       "    .dataframe tbody tr th:only-of-type {\n",
       "        vertical-align: middle;\n",
       "    }\n",
       "\n",
       "    .dataframe tbody tr th {\n",
       "        vertical-align: top;\n",
       "    }\n",
       "\n",
       "    .dataframe thead th {\n",
       "        text-align: right;\n",
       "    }\n",
       "</style>\n",
       "<table border=\"1\" class=\"dataframe\">\n",
       "  <thead>\n",
       "    <tr style=\"text-align: right;\">\n",
       "      <th></th>\n",
       "      <th>id</th>\n",
       "      <th>id_prompt</th>\n",
       "      <th>title</th>\n",
       "      <th>essay</th>\n",
       "      <th>grades</th>\n",
       "      <th>final_grade</th>\n",
       "      <th>is_ENEM</th>\n",
       "      <th>is_convertible</th>\n",
       "      <th>general</th>\n",
       "      <th>specific</th>\n",
       "    </tr>\n",
       "  </thead>\n",
       "  <tbody>\n",
       "    <tr>\n",
       "      <th>36</th>\n",
       "      <td>36</td>\n",
       "      <td>1</td>\n",
       "      <td>Remédio para a falta de responsabilidade</td>\n",
       "      <td>['Os resultados das urnas nas últimas eleições...</td>\n",
       "      <td>[200, 160, 160, 200, 120]</td>\n",
       "      <td>840</td>\n",
       "      <td>True</td>\n",
       "      <td>True</td>\n",
       "      <td>Texto muito bom. Satisfaz plenamente as compet...</td>\n",
       "      <td>[]</td>\n",
       "    </tr>\n",
       "    <tr>\n",
       "      <th>33</th>\n",
       "      <td>33</td>\n",
       "      <td>1</td>\n",
       "      <td>O futuro é agora: politize-se!</td>\n",
       "      <td>['O Brasil carrega desde o passado, caracterís...</td>\n",
       "      <td>[80, 80, 80, 80, 80]</td>\n",
       "      <td>400</td>\n",
       "      <td>True</td>\n",
       "      <td>True</td>\n",
       "      <td>Lamentavelmente, o texto é muito fraco. As úni...</td>\n",
       "      <td>['1) Primeiro parágrafo: a frase em vermelho n...</td>\n",
       "    </tr>\n",
       "    <tr>\n",
       "      <th>29</th>\n",
       "      <td>29</td>\n",
       "      <td>1</td>\n",
       "      <td>Onda da justiça, onda do bem</td>\n",
       "      <td>['A onda conservadora tomou proporções signifi...</td>\n",
       "      <td>[120, 80, 80, 80, 80]</td>\n",
       "      <td>440</td>\n",
       "      <td>True</td>\n",
       "      <td>True</td>\n",
       "      <td>Texto fraco. Exprime apenas o entusiasmo do au...</td>\n",
       "      <td>['1) Primeiro parágrafo: a introdução é fraca ...</td>\n",
       "    </tr>\n",
       "    <tr>\n",
       "      <th>28</th>\n",
       "      <td>28</td>\n",
       "      <td>1</td>\n",
       "      <td>A Volta da Política Conservadora no Brasil</td>\n",
       "      <td>['O Brasil vive uma nova fase na política, com...</td>\n",
       "      <td>[40, 80, 120, 40, 0]</td>\n",
       "      <td>280</td>\n",
       "      <td>False</td>\n",
       "      <td>True</td>\n",
       "      <td>Infelizmente, o texto é muito fraco. O autor n...</td>\n",
       "      <td>['1) Primeiro parágrafo: a) redundância: “a el...</td>\n",
       "    </tr>\n",
       "    <tr>\n",
       "      <th>21</th>\n",
       "      <td>21</td>\n",
       "      <td>1</td>\n",
       "      <td>O conservadorismo no Brasil (2)</td>\n",
       "      <td>['O conservadorismo, que vem ganhando espaço n...</td>\n",
       "      <td>[120, 120, 120, 120, 80]</td>\n",
       "      <td>560</td>\n",
       "      <td>True</td>\n",
       "      <td>True</td>\n",
       "      <td>Texto mediano, em que falta desenvolvimento e ...</td>\n",
       "      <td>['Segundo parágrafo: a) o uso incorreto da pal...</td>\n",
       "    </tr>\n",
       "    <tr>\n",
       "      <th>26</th>\n",
       "      <td>26</td>\n",
       "      <td>1</td>\n",
       "      <td>O conservadorismo no Brasil</td>\n",
       "      <td>['A onda conservadora no Brasil alcançou um el...</td>\n",
       "      <td>[120, 80, 80, 80, 40]</td>\n",
       "      <td>400</td>\n",
       "      <td>False</td>\n",
       "      <td>True</td>\n",
       "      <td>Texto fraco. É, na verdade, um esquema que pre...</td>\n",
       "      <td>['1) Primeiro parágrafo: o que o autor entende...</td>\n",
       "    </tr>\n",
       "    <tr>\n",
       "      <th>31</th>\n",
       "      <td>31</td>\n",
       "      <td>1</td>\n",
       "      <td>Nada que preste</td>\n",
       "      <td>['Na França, em 1789 à 1799 ocorreu a sua revo...</td>\n",
       "      <td>[160, 80, 40, 80, 40]</td>\n",
       "      <td>400</td>\n",
       "      <td>False</td>\n",
       "      <td>True</td>\n",
       "      <td>Texto fraco. Infelizmente, o autor não persegu...</td>\n",
       "      <td>['1) Primeiro e segundo parágrafo: conquanto o...</td>\n",
       "    </tr>\n",
       "    <tr>\n",
       "      <th>25</th>\n",
       "      <td>25</td>\n",
       "      <td>1</td>\n",
       "      <td>O homem é naturalmente bom</td>\n",
       "      <td>['O conservadorismo está em voga na contempora...</td>\n",
       "      <td>[160, 160, 120, 160, 160]</td>\n",
       "      <td>760</td>\n",
       "      <td>True</td>\n",
       "      <td>True</td>\n",
       "      <td>Texto bom, com poucos deslizes e erros de ling...</td>\n",
       "      <td>[]</td>\n",
       "    </tr>\n",
       "    <tr>\n",
       "      <th>22</th>\n",
       "      <td>22</td>\n",
       "      <td>1</td>\n",
       "      <td>Um novo olhar sobre o Brasil</td>\n",
       "      <td>['O nosso país está vivenciando diversos acont...</td>\n",
       "      <td>[0, 0, 0, 0, 0]</td>\n",
       "      <td>0</td>\n",
       "      <td>True</td>\n",
       "      <td>True</td>\n",
       "      <td>Infelizmente, a redação é fraca. No entanto, e...</td>\n",
       "      <td>['1) Primeiro parágrafo: a introdução é muito ...</td>\n",
       "    </tr>\n",
       "    <tr>\n",
       "      <th>32</th>\n",
       "      <td>32</td>\n",
       "      <td>1</td>\n",
       "      <td>A onda conservadora e o Brasil nos próximos anos</td>\n",
       "      <td>['O país está em transição para um novo govern...</td>\n",
       "      <td>[40, 40, 40, 40, 40]</td>\n",
       "      <td>200</td>\n",
       "      <td>False</td>\n",
       "      <td>True</td>\n",
       "      <td>Lamentavelmente, o texto só pode ser considera...</td>\n",
       "      <td>['1) Primeiro parágrafo: a) pela ordem dos ter...</td>\n",
       "    </tr>\n",
       "  </tbody>\n",
       "</table>\n",
       "</div>"
      ],
      "text/plain": [
       "    id  id_prompt                                             title  \\\n",
       "36  36          1          Remédio para a falta de responsabilidade   \n",
       "33  33          1                    O futuro é agora: politize-se!   \n",
       "29  29          1                      Onda da justiça, onda do bem   \n",
       "28  28          1        A Volta da Política Conservadora no Brasil   \n",
       "21  21          1                   O conservadorismo no Brasil (2)   \n",
       "26  26          1                       O conservadorismo no Brasil   \n",
       "31  31          1                                   Nada que preste   \n",
       "25  25          1                        O homem é naturalmente bom   \n",
       "22  22          1                      Um novo olhar sobre o Brasil   \n",
       "32  32          1  A onda conservadora e o Brasil nos próximos anos   \n",
       "\n",
       "                                                essay  \\\n",
       "36  ['Os resultados das urnas nas últimas eleições...   \n",
       "33  ['O Brasil carrega desde o passado, caracterís...   \n",
       "29  ['A onda conservadora tomou proporções signifi...   \n",
       "28  ['O Brasil vive uma nova fase na política, com...   \n",
       "21  ['O conservadorismo, que vem ganhando espaço n...   \n",
       "26  ['A onda conservadora no Brasil alcançou um el...   \n",
       "31  ['Na França, em 1789 à 1799 ocorreu a sua revo...   \n",
       "25  ['O conservadorismo está em voga na contempora...   \n",
       "22  ['O nosso país está vivenciando diversos acont...   \n",
       "32  ['O país está em transição para um novo govern...   \n",
       "\n",
       "                       grades  final_grade  is_ENEM  is_convertible  \\\n",
       "36  [200, 160, 160, 200, 120]          840     True            True   \n",
       "33       [80, 80, 80, 80, 80]          400     True            True   \n",
       "29      [120, 80, 80, 80, 80]          440     True            True   \n",
       "28       [40, 80, 120, 40, 0]          280    False            True   \n",
       "21   [120, 120, 120, 120, 80]          560     True            True   \n",
       "26      [120, 80, 80, 80, 40]          400    False            True   \n",
       "31      [160, 80, 40, 80, 40]          400    False            True   \n",
       "25  [160, 160, 120, 160, 160]          760     True            True   \n",
       "22            [0, 0, 0, 0, 0]            0     True            True   \n",
       "32       [40, 40, 40, 40, 40]          200    False            True   \n",
       "\n",
       "                                              general  \\\n",
       "36  Texto muito bom. Satisfaz plenamente as compet...   \n",
       "33  Lamentavelmente, o texto é muito fraco. As úni...   \n",
       "29  Texto fraco. Exprime apenas o entusiasmo do au...   \n",
       "28  Infelizmente, o texto é muito fraco. O autor n...   \n",
       "21  Texto mediano, em que falta desenvolvimento e ...   \n",
       "26  Texto fraco. É, na verdade, um esquema que pre...   \n",
       "31  Texto fraco. Infelizmente, o autor não persegu...   \n",
       "25  Texto bom, com poucos deslizes e erros de ling...   \n",
       "22  Infelizmente, a redação é fraca. No entanto, e...   \n",
       "32  Lamentavelmente, o texto só pode ser considera...   \n",
       "\n",
       "                                             specific  \n",
       "36                                                 []  \n",
       "33  ['1) Primeiro parágrafo: a frase em vermelho n...  \n",
       "29  ['1) Primeiro parágrafo: a introdução é fraca ...  \n",
       "28  ['1) Primeiro parágrafo: a) redundância: “a el...  \n",
       "21  ['Segundo parágrafo: a) o uso incorreto da pal...  \n",
       "26  ['1) Primeiro parágrafo: o que o autor entende...  \n",
       "31  ['1) Primeiro e segundo parágrafo: conquanto o...  \n",
       "25                                                 []  \n",
       "22  ['1) Primeiro parágrafo: a introdução é muito ...  \n",
       "32  ['1) Primeiro parágrafo: a) pela ordem dos ter...  "
      ]
     },
     "execution_count": 14,
     "metadata": {},
     "output_type": "execute_result"
    }
   ],
   "source": [
    "# Observando o dataframe abaixo, podemos concluir que, de fato, o campo \"id_prompt\" é um identificador para\n",
    "# o tema da redação.\n",
    "train_dataset_df[train_dataset_df[\"id_prompt\"] == 1].sample(frac=1).head(10)"
   ]
  },
  {
   "cell_type": "markdown",
   "metadata": {},
   "source": [
    "### Validando remoção de colunas sem dados"
   ]
  },
  {
   "cell_type": "markdown",
   "metadata": {},
   "source": [
    "#### Obs.: no novo dataset, essas colunas possuem dados, então não será necessário removê-las"
   ]
  },
  {
   "cell_type": "code",
   "execution_count": 12,
   "metadata": {},
   "outputs": [
    {
     "name": "stdout",
     "output_type": "stream",
     "text": [
      "True\n",
      "True\n"
     ]
    }
   ],
   "source": [
    "# Como todos valores dessas duas colunas são nulos, podemos removê-las.\n",
    "columns_to_be_removed = [\"general\", \"specific\"]\n",
    "for column in columns_to_be_removed:\n",
    "    print(all(train_dataset_df[column].isna()))"
   ]
  },
  {
   "cell_type": "markdown",
   "metadata": {},
   "source": [
    "### Validando se é possível remover valores estranhos no campo \"title\""
   ]
  },
  {
   "cell_type": "markdown",
   "metadata": {},
   "source": [
    "#### Obs.: no novo dataset, os valores dessa coluna já foram limpos."
   ]
  },
  {
   "cell_type": "code",
   "execution_count": 16,
   "metadata": {},
   "outputs": [
    {
     "data": {
      "text/plain": [
       "{}"
      ]
     },
     "execution_count": 16,
     "metadata": {},
     "output_type": "execute_result"
    }
   ],
   "source": [
    "title_to_count = train_dataset_df[\"title\"].value_counts()\n",
    "title_to_count = {title: count for title, count in title_to_count.items() if count > 1}\n",
    "title_to_count"
   ]
  },
  {
   "cell_type": "code",
   "execution_count": 17,
   "metadata": {},
   "outputs": [
    {
     "data": {
      "text/html": [
       "<div>\n",
       "<style scoped>\n",
       "    .dataframe tbody tr th:only-of-type {\n",
       "        vertical-align: middle;\n",
       "    }\n",
       "\n",
       "    .dataframe tbody tr th {\n",
       "        vertical-align: top;\n",
       "    }\n",
       "\n",
       "    .dataframe thead th {\n",
       "        text-align: right;\n",
       "    }\n",
       "</style>\n",
       "<table border=\"1\" class=\"dataframe\">\n",
       "  <thead>\n",
       "    <tr style=\"text-align: right;\">\n",
       "      <th></th>\n",
       "      <th>id</th>\n",
       "      <th>id_prompt</th>\n",
       "      <th>title</th>\n",
       "      <th>essay</th>\n",
       "      <th>grades</th>\n",
       "      <th>final_grade</th>\n",
       "      <th>is_ENEM</th>\n",
       "      <th>is_convertible</th>\n",
       "      <th>general</th>\n",
       "      <th>specific</th>\n",
       "    </tr>\n",
       "  </thead>\n",
       "  <tbody>\n",
       "  </tbody>\n",
       "</table>\n",
       "</div>"
      ],
      "text/plain": [
       "Empty DataFrame\n",
       "Columns: [id, id_prompt, title, essay, grades, final_grade, is_ENEM, is_convertible, general, specific]\n",
       "Index: []"
      ]
     },
     "execution_count": 17,
     "metadata": {},
     "output_type": "execute_result"
    }
   ],
   "source": [
    "# Depois de analisar todos esses títulos estranhos, concluiu-se que todos eles são títulos\n",
    "# inválidos, ou são simplesmente um valor indicando que a redação não teve título.\n",
    "suspicious_titles = list(title_to_count.keys())\n",
    "train_dataset_df[train_dataset_df[\"title\"].isin(suspicious_titles)].sort_values(by=[\"title\"])"
   ]
  },
  {
   "cell_type": "code",
   "execution_count": 17,
   "metadata": {},
   "outputs": [
    {
     "data": {
      "text/html": [
       "<div>\n",
       "<style scoped>\n",
       "    .dataframe tbody tr th:only-of-type {\n",
       "        vertical-align: middle;\n",
       "    }\n",
       "\n",
       "    .dataframe tbody tr th {\n",
       "        vertical-align: top;\n",
       "    }\n",
       "\n",
       "    .dataframe thead th {\n",
       "        text-align: right;\n",
       "    }\n",
       "</style>\n",
       "<table border=\"1\" class=\"dataframe\">\n",
       "  <thead>\n",
       "    <tr style=\"text-align: right;\">\n",
       "      <th></th>\n",
       "      <th>id</th>\n",
       "      <th>id_prompt</th>\n",
       "      <th>title</th>\n",
       "      <th>essay</th>\n",
       "      <th>grades</th>\n",
       "      <th>general</th>\n",
       "      <th>specific</th>\n",
       "    </tr>\n",
       "  </thead>\n",
       "  <tbody>\n",
       "  </tbody>\n",
       "</table>\n",
       "</div>"
      ],
      "text/plain": [
       "Empty DataFrame\n",
       "Columns: [id, id_prompt, title, essay, grades, general, specific]\n",
       "Index: []"
      ]
     },
     "execution_count": 17,
     "metadata": {},
     "output_type": "execute_result"
    }
   ],
   "source": [
    "# Portanto, vamos apenas colocar um valor nulo para todos esses títulos inválidos\n",
    "train_dataset_df.loc[train_dataset_df[\"title\"].isin(suspicious_titles), \"title\"] = pd.NA\n",
    "train_dataset_df[train_dataset_df[\"title\"].isin(suspicious_titles)]"
   ]
  },
  {
   "cell_type": "code",
   "execution_count": 18,
   "metadata": {},
   "outputs": [
    {
     "data": {
      "text/plain": [
       "['O estudo é a base para melhorar de vida',\n",
       " 'O mal do século e o combate através da fé',\n",
       " 'Em uma pesquisa recente',\n",
       " 'O conhecimento liberta',\n",
       " 'O caminho do sucesso',\n",
       " 'Nem tudo é dinheiro',\n",
       " 'Desejo pelo Sucesso',\n",
       " 'Estudar',\n",
       " 'O que realmente é importante para a melhoria de vida',\n",
       " 'Fé: essencial para a vida em geral ou para vida espiritual',\n",
       " 'A fé é o equilíbrio do brasileiro',\n",
       " 'A fé ao encontro da ciência',\n",
       " 'A arte do equilíbrio da vida',\n",
       " 'Ser vencedor é uma escolha',\n",
       " 'Povo que anda com fé',\n",
       " 'Vencer na vida',\n",
       " 'Vencer ou ser?',\n",
       " '“E essa é a vitória que vence o mundo: a nossa fé”',\n",
       " 'O que é mais importante para vencer na vida?',\n",
       " 'Fatores mais importantes para vencer na vida',\n",
       " 'Por que uma onda conservadora?',\n",
       " 'O conservadorismo no Brasil (2)',\n",
       " 'Um novo olhar sobre o Brasil',\n",
       " 'A nova hegemonia política do Brasil',\n",
       " 'O que falta ao Brasil para prosperar?',\n",
       " 'O homem é naturalmente bom',\n",
       " 'O conservadorismo no Brasil',\n",
       " 'A renovação do Brasil',\n",
       " 'A Volta da Política Conservadora no Brasil',\n",
       " 'Onda da justiça, onda do bem',\n",
       " 'Inversão política',\n",
       " 'Nada que preste',\n",
       " 'A onda conservadora e o Brasil nos próximos anos',\n",
       " 'O futuro é agora: politize-se!',\n",
       " 'O movimento conservador até a Física explica',\n",
       " 'Polarização no Brasil: amadurecimento da cultura política no país?',\n",
       " 'Remédio para a falta de responsabilidade',\n",
       " 'Efeitos do conservadorismo',\n",
       " 'O Brasil é conservador',\n",
       " 'A onda democrática',\n",
       " 'Não existe cura para o que não é doença',\n",
       " 'A homofobia em pauta',\n",
       " 'No que se refere à produção de alimentos',\n",
       " 'Agrotóxico e suas consequências',\n",
       " 'O perigo está na mesa',\n",
       " 'O nome é o menos importante',\n",
       " 'Veneno para o campo e para o homem',\n",
       " 'Pesticida',\n",
       " 'Para um futuro sustentável',\n",
       " 'Defensivos agrícolas: uma expressão branda diante de um problema impactante',\n",
       " 'Superando a insegurança alimentar',\n",
       " 'A toxicidade na produtividade',\n",
       " 'Agrotóxicos são polêmicos',\n",
       " 'Nomenclatura, propaganda e saúde',\n",
       " 'Agrotóxicos x Alimentos Orgânicos',\n",
       " 'Uma produção livre de preconceitos!',\n",
       " 'Agrotóxicos e Defensores Agrícolas: a mensagem por trás de um nome',\n",
       " 'Agrotóxicos: Sinônimo de contaminação e indiferença política',\n",
       " 'As consequências do pós-revolução verde',\n",
       " 'A controvérsia dos insumos agrícolas',\n",
       " 'A liberação de agrotóxicos',\n",
       " 'A praga dos pesticidas?',\n",
       " 'Grade de estudos sem Educação Física e Artes?',\n",
       " 'Entre o decretado e o obedecido',\n",
       " 'Cantar por cantar não vale',\n",
       " 'Um ritual em desuso',\n",
       " 'A construção',\n",
       " 'Hino nacional nas escolas: a proposta de lei que não deu certo',\n",
       " 'O hino nacional longe de qualquer associação política',\n",
       " 'O nacionalismo é o fim, mas esse é o meio?',\n",
       " 'Paz no futuro e glória no passado',\n",
       " 'A importância do patriotismo',\n",
       " 'Canta o futuro da nação',\n",
       " 'O hino nas escolas',\n",
       " 'Hino Nacional',\n",
       " 'Efeito G.O.T',\n",
       " 'O hino nacional é diferente de uma devoção ao presidente',\n",
       " 'Cantar o Hino Nacional, demonstração de amor à Pátria',\n",
       " 'Inserir o hino nacional no momento atual',\n",
       " 'Canção ao hino nacional brasileiro',\n",
       " 'Nacionalismo e símbolos nacionais',\n",
       " 'A importância de cantar o hino',\n",
       " 'Honra em saudar a pátria',\n",
       " 'A apropriação cultural e o conhecimento histórico',\n",
       " 'No mês de fevereiro, muitos países',\n",
       " 'Dar voz para quem não a possui',\n",
       " 'Carnaval: sinônimo de composição cultural',\n",
       " 'Multiculturalismo carnavalesco',\n",
       " 'Apropriação ou intercâmbio?',\n",
       " 'A apropriação cultural contínua',\n",
       " 'Muito além da fantasia',\n",
       " 'As fantasias no carnaval',\n",
       " 'Apropriação cultural é só no carnaval?',\n",
       " 'Entender o outro',\n",
       " 'Apropriação Cultural e o Racismo Velado',\n",
       " 'Apropriação cultural e atualidades',\n",
       " 'Representação indígena no meio social',\n",
       " 'A afronta carnavalesca',\n",
       " 'Carnaval: uma festa de cultura',\n",
       " 'Carnaval ou cultura',\n",
       " 'Monopólio cultural?',\n",
       " 'Apropriação cultural: tão necessária quanto natural',\n",
       " 'Apropriação cultural significa uma pessoa...',\n",
       " 'A Mitologênese',\n",
       " 'Mundo moderno e suas tecnologias',\n",
       " 'Não à centralização',\n",
       " '(In)revolução pós-humana',\n",
       " 'Revolução transumanista: uma espada de dois gumes',\n",
       " 'Transumanismo: um reflexo da ganância humana',\n",
       " 'Revolução Transumanista: limitada às elites',\n",
       " 'A solução está no futuro',\n",
       " 'A tecnologia a serviço da medicina',\n",
       " 'Revolução transumanista: utopia ou distopia',\n",
       " 'Assim caminha a humanidade',\n",
       " 'O avanço da tecnologia',\n",
       " 'Existem limites na esfera científica pelo bem da evolução?',\n",
       " 'O avanço tecnológico, um conforto para poucos',\n",
       " 'Avanços tecnológicos: realidade X especulação',\n",
       " 'Evidente é o desenvolvimento',\n",
       " 'O verdadeiro limite humano',\n",
       " 'Pré-Conceito ',\n",
       " 'O Avanço Tecnológico: Progresso ou Perigo?',\n",
       " 'Os perigos da uniformidade',\n",
       " 'A educação é um bebe ',\n",
       " 'Vivemos em um país onde a educação',\n",
       " 'Avanço da tecnologia no sistema financeiro',\n",
       " 'Criptomoedas: investimento de alto risco',\n",
       " 'Um mundo oculto',\n",
       " 'Criptomoeda',\n",
       " 'Menos influência estatal não significa menos ordem',\n",
       " 'Problemáticas para utilização das criptomoedas',\n",
       " 'A Utopia da Liberdade Financeira',\n",
       " 'Criptomoeda: um passo precipitado',\n",
       " 'Revolução econômica moderna',\n",
       " 'Revoluções necessárias ',\n",
       " 'Inovação social',\n",
       " 'O novo sistema financeiro mundial',\n",
       " 'Revolução e evolução',\n",
       " 'Revolução Universal',\n",
       " 'As tecnologias movem o mundo ou o mundo, as tecnologias?',\n",
       " 'Criptomoedas, uma análise sob sua contemporaneidade',\n",
       " 'A revolução tecnológica e o sistema financeiro.',\n",
       " 'Segundo Zygmunt Bauman, sociólogo polonês',\n",
       " 'A facilidade nas transações ilegais',\n",
       " 'Direitos vinculados a lei',\n",
       " 'Direito de liberdade',\n",
       " 'Liberdade de expressão e intimidade/limites pessoais.',\n",
       " 'Direitos Humanos Atualmente',\n",
       " 'Direitos humanos: piada ou realidade?',\n",
       " 'Escola militar!',\n",
       " 'Educação vem de casa',\n",
       " 'O sobrepeso e seus males',\n",
       " 'Amo muito tudo isso?',\n",
       " 'Dois pesos, duas medidas',\n",
       " 'A importância de bons hábitos contra a epidemia alimentar',\n",
       " 'A Falta de Educação Alimentar para ter uma Vida Melhor',\n",
       " 'Obesidade: uma questão de saúde pública',\n",
       " 'Se aceite como você é, mas com saúde',\n",
       " 'A propaganda e o excesso de peso',\n",
       " 'A Epidermia da Obesidade',\n",
       " 'O desafio de combater a obesidade',\n",
       " 'Um risco de vida',\n",
       " 'O que engorda mata',\n",
       " 'Epidemia Alimentar',\n",
       " 'Sobrepeso e obesidade: uma realidade que pode ser acabada',\n",
       " 'Causas e soluções relacionadas a epidemia alimentar.',\n",
       " 'Efeitos da globalização nos hábitos alimentares',\n",
       " 'O impasse da superação da obesidade no Brasil',\n",
       " 'Obesidade, um problema a ser combatido',\n",
       " 'Corpo humano em dia',\n",
       " 'A obesidade humana',\n",
       " '(Sem título 097)',\n",
       " 'A geração que construiu seu partido',\n",
       " 'Escola Sem Senso Crítico',\n",
       " 'A escravidão moderna ',\n",
       " 'A desumanidade na escravidão',\n",
       " 'A persistência da escravidão',\n",
       " 'Vamos falar sobre isso até que não aconteça mais',\n",
       " 'A dependência também é compulsória',\n",
       " 'Desafios de um país em desenvolvimento no contexto migratório contemporâneo',\n",
       " 'Braxit',\n",
       " 'Um caso precário',\n",
       " 'Por que sair do acordo de migração da ONU é um erro?',\n",
       " 'Esse Bolsonaro realmente vai ser um perigo',\n",
       " 'Os imigrantes à caminho do Brasil',\n",
       " 'Desafios na imigração de refugiados',\n",
       " 'Imigração ou problematização',\n",
       " 'Humanização versus Imigração',\n",
       " 'Migração: um direito',\n",
       " 'Gente como a gente',\n",
       " 'Sonho imigrante',\n",
       " 'Século XXI: o Brasil e o novo panorama da imigração',\n",
       " 'Brasil: por uma migração segura, ordenada e regular',\n",
       " 'Imigrantes: o direito à vida e a assistência',\n",
       " 'A situação atual do Brasil e a imigração',\n",
       " 'Os desafios da imigração no brasil ',\n",
       " 'O Brasil e a questão imigratória',\n",
       " 'Divergência de opiniões',\n",
       " 'Solidariedade brasileira',\n",
       " 'O Brasil e seus conflitos',\n",
       " 'É de conhecimento geral que o Brasil vem sofrendo',\n",
       " 'Evitando o acidente',\n",
       " 'Prerrogativa de função ou privilégio pessoal',\n",
       " 'A oligarquia atual',\n",
       " 'O direito ao foro privilegiado e os privilégios aos poderosos no Brasil',\n",
       " 'Comprometimento Escolar e Individual',\n",
       " '(Sem título 084)',\n",
       " 'Ursos polares sofrem as consequências do aquecimento global',\n",
       " 'Proezas da humanidade, até que ponto chegaremos?',\n",
       " 'Natureza e desenvolvimento sustentável',\n",
       " 'As consequências do degelo no Ártico',\n",
       " 'O aquecimento global e os ursos',\n",
       " 'Mudanças ambientais e sociais',\n",
       " 'Desastre ambiental (abril 2019)',\n",
       " 'Em busca de um novo lar',\n",
       " 'A geleira do descaso',\n",
       " 'A ação antrópica e suas consequências',\n",
       " 'O dilema ecológico',\n",
       " 'Natureza caótica',\n",
       " 'Um conflito em meio a um problema ambiental',\n",
       " 'Entre desenvolvimento e meio ambiente',\n",
       " 'Transtorno climático na Rússia',\n",
       " 'A evolução para a destruição',\n",
       " 'A natureza pede socorro',\n",
       " 'Os novos vizinhos',\n",
       " 'Impactos das mudanças climáticas na vida animal',\n",
       " 'A busca por território e o dilema ecológico',\n",
       " 'Uma perda histórica para o país',\n",
       " 'Incêndio do Museu Histórico Nacional: a política de dominação secular',\n",
       " 'Patrimônios destruídos pelo governo',\n",
       " 'A face obscura da internet',\n",
       " 'As descobertas através das pesquisas ',\n",
       " 'A cura do câncer existe?',\n",
       " 'Tantos casos de conhecimento público',\n",
       " 'De amor e de esperança o Brasil não desce',\n",
       " 'A canção do sabiá',\n",
       " 'O país do futuro',\n",
       " 'Posse de armas: o dilema da segurança pessoal no Brasil',\n",
       " 'Com o poder nas mãos',\n",
       " 'As consequências de uma lei',\n",
       " 'Armar-se para atirar no pé',\n",
       " 'Uma faca de dois gumes',\n",
       " 'Beije um assaltante',\n",
       " 'Segurança para quem?',\n",
       " 'Posse de educação',\n",
       " 'Ao analisar o decreto que facilita a posse de armas',\n",
       " 'Cidadão armado e combate a violência',\n",
       " 'Arma não simboliza segurança',\n",
       " 'Mais armas menos violência?',\n",
       " 'Armas na mão do povo',\n",
       " 'Escudo armamentista',\n",
       " 'Educar as crianças',\n",
       " 'Posse de armas',\n",
       " 'Um tiro no pé',\n",
       " 'Em 15 de Janeiro de 2019, o presidente Jair Bolsonaro',\n",
       " 'Os riscos da posse de armas no país da ignorância',\n",
       " 'Posse de armas: será tal medida eficaz?',\n",
       " 'Preservação da Amazônia: Responsabilidade nacional ou internacional?',\n",
       " 'Cooperação Mundial',\n",
       " 'Amazônia e o mundo',\n",
       " 'A Amazônia é nossa!',\n",
       " 'A Caixa de Pandora Brasileira',\n",
       " 'A falsa posse sob a natureza',\n",
       " 'O dilema que circunda a preservação da floresta amazônica',\n",
       " 'Amazônia e sua riqueza compartilhada',\n",
       " 'Pulmões limpos e estômagos vazios.',\n",
       " 'Problemas ambientais críticos',\n",
       " 'Corrigindo erros',\n",
       " 'Amazonas',\n",
       " 'Amazônia deve ser preocupação da população brasileira',\n",
       " 'Amazônia em foco',\n",
       " 'Preservação do meio ambiente, um dever de todos!',\n",
       " 'Recentemente acompanhamos a grande repercussão',\n",
       " 'Amazônia: Preservar sem internacionalizar',\n",
       " 'Floresta Amazônica: um problema global',\n",
       " 'somos responsável ',\n",
       " 'Amazonas, um bem de todos nós',\n",
       " 'Qualificações para o mercado de trabalho',\n",
       " 'Qualificação será o futuro do emprego',\n",
       " 'Futuro da crise do desemprego',\n",
       " 'O progresso da tecnologia',\n",
       " 'O advento tecnológico ',\n",
       " 'Transformações laborais',\n",
       " 'O emprego do futuro',\n",
       " 'Avanços tecnológicos',\n",
       " 'Procura-se futuro',\n",
       " 'Os impasses do desemprego aliado às mudanças sociais.',\n",
       " 'A qualificação profissional no Brasil',\n",
       " 'Qualificação Coerente',\n",
       " 'O futuro dos desempregados no Brasil',\n",
       " 'Nações unidas contra o desemprego',\n",
       " 'A era da reinvenção profissional',\n",
       " 'Peão também é gente ',\n",
       " 'Tempos de IA',\n",
       " 'Evolução ou regressão humana?',\n",
       " 'Qualificação e o futuro do emprego.',\n",
       " 'Aumento do desemprego no mundo tecnológico',\n",
       " 'A boca invisível: boatos políticos e suas implicações',\n",
       " 'A importância do conhecimento no combate à manipulação política',\n",
       " 'O combate impossível à manipulação inevitável',\n",
       " 'União entre o órgão público e a opinião pública',\n",
       " 'A democracia estende-se ao STF',\n",
       " 'Contrato social quebrado',\n",
       " 'Anseio do Povo',\n",
       " 'Opinião Leiga ',\n",
       " 'Um poder judiciário transparente e uma população exigente',\n",
       " 'A repentina visibilidade do STF',\n",
       " 'Amadurecimento da sociedade e o STF',\n",
       " 'Fenômeno de justiça',\n",
       " 'Censura ao Supremo Tribunal Federal versus opinião pública ',\n",
       " 'A lacuna entre sociedade e o governo',\n",
       " 'Ministros ou Césares',\n",
       " 'Ministros, não heróis',\n",
       " 'A integridade do papel do STF',\n",
       " 'STF um órgão político ou jurídico?',\n",
       " 'Órgão Máximo',\n",
       " 'A Corte Suprema',\n",
       " 'A imparcialidade do Supremo Tribunal Federal e a opinião pública.',\n",
       " 'A atual importância do Supremo Tribunal Federal para a sociedade brasileira',\n",
       " 'A insatisfação com a Cúpula do Judiciário',\n",
       " 'Assunto que repercute de forma constante',\n",
       " 'Justiça pra alguns, STF pra outros',\n",
       " 'Comenta-se que o ex-presidente Lula',\n",
       " 'A “Lei Fleury” do século XXI',\n",
       " 'Os Cinco do Central Park',\n",
       " 'Prisão precoce!',\n",
       " 'O réu deve ou não ser preso após a condenação em 2ª instância?',\n",
       " 'Em caso de dúvida, liberdade ou prisão?',\n",
       " 'Esfacelamento da democracia e da moral',\n",
       " 'Prisão ou Liberdade?',\n",
       " 'A inconstitucionalidade da prisão após o julgamento em segunda instância',\n",
       " 'Condenação em 2ª instância',\n",
       " 'Não ao aumento da impunidade',\n",
       " 'Constituição ou liberdade?',\n",
       " 'Injustiça ou impunibilidade',\n",
       " 'Impunidade ou penalidade?',\n",
       " 'Tardia e eficaz',\n",
       " 'Presunção de inocência: garantia básica de um Estado democrático de direito',\n",
       " 'Prisão em Segunda Instância: Um Atentado à Ordem Constitucional',\n",
       " 'Sim à condenação em segunda instância',\n",
       " 'Educação brasileira: conhecimento já!',\n",
       " 'A desigualdade no ensino brasileiro',\n",
       " 'Quem paga são os que menos têm',\n",
       " 'Gasto nas universidades',\n",
       " 'Crise na educação (1)',\n",
       " 'Crise na educação',\n",
       " 'Educação gratuita para quem realmente precisa',\n",
       " 'Universidades públicas para todos',\n",
       " 'Ensino público superior híbrido ',\n",
       " 'Em busca dos seus direitos',\n",
       " 'O preço de um sonho',\n",
       " 'Pública e gratuita',\n",
       " 'O dilema do ensino superior',\n",
       " 'Educação é para todos',\n",
       " 'Desigualdade na educação',\n",
       " 'Universidade pública e gratuita para o bem dos estudantes',\n",
       " 'Educação Pública: Trabalhando pela (des)igualdade',\n",
       " 'A crise das universidades públicas no Brasil',\n",
       " 'A privatização e o aumento da desigualdade',\n",
       " 'O de cima sobe e o de baixo desce',\n",
       " 'A violência por um ponto de vista otimista',\n",
       " 'Violência gera violência',\n",
       " 'Ultimamente temos observado um aumento',\n",
       " 'Gerações em conflito',\n",
       " 'Geração dos Narcisos',\n",
       " 'De acordo com a poesia do poeta maranhense',\n",
       " 'A nova ciência: a eficiência da vacinação',\n",
       " 'A ciência pode ser questionada?',\n",
       " 'Autenticidade de informação',\n",
       " 'O fato de negar os fatos',\n",
       " 'Fatos que desaparecem',\n",
       " 'Questionam a ciência, mas esquecem de estudá-la',\n",
       " 'A informação em um mundo de manipulação',\n",
       " 'Crise na credibilidade',\n",
       " 'A recusa da vacina',\n",
       " 'Falso Iluminismo',\n",
       " 'Geração de \"Pós-Verdadeiros\"',\n",
       " 'A verdade absoluta através dos anos',\n",
       " 'O imediatismo como fator de risco',\n",
       " 'Pensamento científico em perigo',\n",
       " 'Ciência que impulsiona',\n",
       " 'A pós-verdade face aos dogmas da Ciência',\n",
       " 'A ciência é uma instituição legítima',\n",
       " 'É notório o aumento da discussão',\n",
       " 'A ciência na era da pós-verdade']"
      ]
     },
     "execution_count": 18,
     "metadata": {},
     "output_type": "execute_result"
    }
   ],
   "source": [
    "train_dataset_df[\"title\"].unique().tolist()"
   ]
  },
  {
   "cell_type": "markdown",
   "metadata": {},
   "source": [
    "Porém, depois de analisar mais exemplos, percebeu-se que há mais títulos inválidos. Então, caso seja realmente necessário remover esses títulos inválidos para alguma tarefa, isso será realizado posteriormente devido ao grande número de exemplos."
   ]
  },
  {
   "cell_type": "markdown",
   "metadata": {},
   "source": [
    "### Análise do campo \"grades\""
   ]
  },
  {
   "cell_type": "code",
   "execution_count": 19,
   "metadata": {},
   "outputs": [
    {
     "data": {
      "text/plain": [
       "['[0, 0, 0, 0, 0]', '[200, 120, 120, 120, 160]', '[120, 120, 120, 120, 120]']"
      ]
     },
     "execution_count": 19,
     "metadata": {},
     "output_type": "execute_result"
    }
   ],
   "source": [
    "samples = train_dataset.shuffle(7).select(range(3))\n",
    "samples.set_format(\"pandas\")\n",
    "samples_df = samples[:]\n",
    "grades_examples = samples_df[\"grades\"].tolist()\n",
    "grades_examples"
   ]
  },
  {
   "cell_type": "code",
   "execution_count": 20,
   "metadata": {},
   "outputs": [
    {
     "data": {
      "text/plain": [
       "str"
      ]
     },
     "execution_count": 20,
     "metadata": {},
     "output_type": "execute_result"
    }
   ],
   "source": [
    "type(grades_examples[0])"
   ]
  },
  {
   "cell_type": "code",
   "execution_count": 21,
   "metadata": {},
   "outputs": [
    {
     "data": {
      "text/plain": [
       "'0, 0, 0, 0, 0'"
      ]
     },
     "execution_count": 21,
     "metadata": {},
     "output_type": "execute_result"
    }
   ],
   "source": [
    "example = grades_examples[0]\n",
    "grades_without_brackets = example.strip(\"[]\")\n",
    "grades_without_brackets"
   ]
  },
  {
   "cell_type": "code",
   "execution_count": 22,
   "metadata": {},
   "outputs": [
    {
     "data": {
      "text/plain": [
       "[0, 0, 0, 0, 0]"
      ]
     },
     "execution_count": 22,
     "metadata": {},
     "output_type": "execute_result"
    }
   ],
   "source": [
    "# Obtendo a nota de cada competência separadamente, podemos criar uma feature de nota por competência, sendo do tipo inteiro.\n",
    "[int(grade) for grade in grades_without_brackets.split(\",\")]"
   ]
  },
  {
   "cell_type": "code",
   "execution_count": 23,
   "metadata": {},
   "outputs": [
    {
     "name": "stdout",
     "output_type": "stream",
     "text": [
      "[0, 0, 0, 0, 0]\n",
      "[200, 120, 120, 120, 160]\n",
      "[120, 120, 120, 120, 120]\n"
     ]
    }
   ],
   "source": [
    "# Uma forma mais eficiente de realizar a mesma tarefa acima:\n",
    "for example in grades_examples:\n",
    "    print(eval(example))"
   ]
  },
  {
   "cell_type": "markdown",
   "metadata": {},
   "source": [
    "## Exploração do dataset de temas"
   ]
  },
  {
   "cell_type": "code",
   "execution_count": 156,
   "metadata": {},
   "outputs": [
    {
     "data": {
      "text/html": [
       "<div>\n",
       "<style scoped>\n",
       "    .dataframe tbody tr th:only-of-type {\n",
       "        vertical-align: middle;\n",
       "    }\n",
       "\n",
       "    .dataframe tbody tr th {\n",
       "        vertical-align: top;\n",
       "    }\n",
       "\n",
       "    .dataframe thead th {\n",
       "        text-align: right;\n",
       "    }\n",
       "</style>\n",
       "<table border=\"1\" class=\"dataframe\">\n",
       "  <thead>\n",
       "    <tr style=\"text-align: right;\">\n",
       "      <th></th>\n",
       "      <th>id</th>\n",
       "      <th>source</th>\n",
       "      <th>title</th>\n",
       "      <th>prompt</th>\n",
       "      <th>supporting_text</th>\n",
       "    </tr>\n",
       "  </thead>\n",
       "  <tbody>\n",
       "    <tr>\n",
       "      <th>0</th>\n",
       "      <td>0</td>\n",
       "      <td>UOL</td>\n",
       "      <td>O que é mais importante para vencer na vida?</td>\n",
       "      <td>['Reportagem publicada pelo UOL Economia no mê...</td>\n",
       "      <td>['Pessoas valorizam fé, em vez de estudo e tra...</td>\n",
       "    </tr>\n",
       "    <tr>\n",
       "      <th>1</th>\n",
       "      <td>1</td>\n",
       "      <td>UOL</td>\n",
       "      <td>A onda conservadora e o Brasil nos próximos an...</td>\n",
       "      <td>['Em meados desta década, que se aproxima do f...</td>\n",
       "      <td>['A nova onda conservadora no Brasil', 'Após e...</td>\n",
       "    </tr>\n",
       "    <tr>\n",
       "      <th>2</th>\n",
       "      <td>2</td>\n",
       "      <td>UOL</td>\n",
       "      <td>A terapia de reversão da orientação sexual</td>\n",
       "      <td>['Um assunto sensível transformou-se em notíci...</td>\n",
       "      <td>['Os fatos', 'Uma decisão em caráter liminar d...</td>\n",
       "    </tr>\n",
       "    <tr>\n",
       "      <th>3</th>\n",
       "      <td>3</td>\n",
       "      <td>UOL</td>\n",
       "      <td>Agrotóxicos ou defensivos agrícolas: dois nome...</td>\n",
       "      <td>['O fato é recente, mas o debate já dura mais ...</td>\n",
       "      <td>['Brasil, potência agrícola', 'O Governo do pr...</td>\n",
       "    </tr>\n",
       "    <tr>\n",
       "      <th>4</th>\n",
       "      <td>4</td>\n",
       "      <td>UOL</td>\n",
       "      <td>Artes e educação física: opcionais ou obrigató...</td>\n",
       "      <td>['No mês de setembro passado, o governo federa...</td>\n",
       "      <td>['Educação integral', 'Ao justificar a reforma...</td>\n",
       "    </tr>\n",
       "  </tbody>\n",
       "</table>\n",
       "</div>"
      ],
      "text/plain": [
       "   id source                                              title  \\\n",
       "0   0    UOL     O que é mais importante para vencer na vida?     \n",
       "1   1    UOL  A onda conservadora e o Brasil nos próximos an...   \n",
       "2   2    UOL       A terapia de reversão da orientação sexual     \n",
       "3   3    UOL  Agrotóxicos ou defensivos agrícolas: dois nome...   \n",
       "4   4    UOL  Artes e educação física: opcionais ou obrigató...   \n",
       "\n",
       "                                              prompt  \\\n",
       "0  ['Reportagem publicada pelo UOL Economia no mê...   \n",
       "1  ['Em meados desta década, que se aproxima do f...   \n",
       "2  ['Um assunto sensível transformou-se em notíci...   \n",
       "3  ['O fato é recente, mas o debate já dura mais ...   \n",
       "4  ['No mês de setembro passado, o governo federa...   \n",
       "\n",
       "                                     supporting_text  \n",
       "0  ['Pessoas valorizam fé, em vez de estudo e tra...  \n",
       "1  ['A nova onda conservadora no Brasil', 'Após e...  \n",
       "2  ['Os fatos', 'Uma decisão em caráter liminar d...  \n",
       "3  ['Brasil, potência agrícola', 'O Governo do pr...  \n",
       "4  ['Educação integral', 'Ao justificar a reforma...  "
      ]
     },
     "execution_count": 156,
     "metadata": {},
     "output_type": "execute_result"
    }
   ],
   "source": [
    "df = pd.read_csv(raw_topic_dataset_filepath)\n",
    "df.head()"
   ]
  },
  {
   "cell_type": "markdown",
   "metadata": {},
   "source": [
    "### Entendendo a coluna \"prompt\" (descrição do tema)"
   ]
  },
  {
   "cell_type": "code",
   "execution_count": 158,
   "metadata": {},
   "outputs": [
    {
     "data": {
      "text/plain": [
       "\"['Reportagem publicada pelo UOL Economia no mês passado apresenta uma pesquisa realizada pelo Datafolha em que se perguntava aos entrevistados qual o fator mais importante para se conquistar uma vida melhor. A amostragem reflete toda a população do Brasil, com baixa margem de erro. Os resultados da pesquisa revelaram que, em primeiro lugar, os brasileiros consideram necessária a fé religiosa. De acordo com a pesquisa, as pessoas consideram a fé mais importante do que o estudo ou o trabalho, por exemplo, para melhorar de vida. Leia o texto do UOL que se transcreve abaixo, preste atenção nos percentuais e redija uma dissertação argumentativa apresentando sua opinião sobre a questão formulada na pesquisa: para você, dos itens mencionados, qual é o mais importante para melhorar de vida? Por quê? Apresente suas razões para justificar o seu ponto de vista.']\""
      ]
     },
     "execution_count": 158,
     "metadata": {},
     "output_type": "execute_result"
    }
   ],
   "source": [
    "topic_example = df.loc[0, \"prompt\"]\n",
    "topic_example"
   ]
  },
  {
   "cell_type": "code",
   "execution_count": 159,
   "metadata": {},
   "outputs": [
    {
     "data": {
      "text/plain": [
       "['Reportagem publicada pelo UOL Economia no mês passado apresenta uma pesquisa realizada pelo Datafolha em que se perguntava aos entrevistados qual o fator mais importante para se conquistar uma vida melhor. A amostragem reflete toda a população do Brasil, com baixa margem de erro. Os resultados da pesquisa revelaram que, em primeiro lugar, os brasileiros consideram necessária a fé religiosa. De acordo com a pesquisa, as pessoas consideram a fé mais importante do que o estudo ou o trabalho, por exemplo, para melhorar de vida. Leia o texto do UOL que se transcreve abaixo, preste atenção nos percentuais e redija uma dissertação argumentativa apresentando sua opinião sobre a questão formulada na pesquisa: para você, dos itens mencionados, qual é o mais importante para melhorar de vida? Por quê? Apresente suas razões para justificar o seu ponto de vista.']"
      ]
     },
     "execution_count": 159,
     "metadata": {},
     "output_type": "execute_result"
    }
   ],
   "source": [
    "eval(topic_example)"
   ]
  },
  {
   "cell_type": "code",
   "execution_count": 160,
   "metadata": {},
   "outputs": [
    {
     "data": {
      "text/plain": [
       "list"
      ]
     },
     "execution_count": 160,
     "metadata": {},
     "output_type": "execute_result"
    }
   ],
   "source": [
    "type(eval(topic_example))"
   ]
  },
  {
   "cell_type": "code",
   "execution_count": 161,
   "metadata": {},
   "outputs": [
    {
     "name": "stdout",
     "output_type": "stream",
     "text": [
      "<class 'str'>\n"
     ]
    },
    {
     "data": {
      "text/plain": [
       "'Reportagem publicada pelo UOL Economia no mês passado apresenta uma pesquisa realizada pelo Datafolha em que se perguntava aos entrevistados qual o fator mais importante para se conquistar uma vida melhor. A amostragem reflete toda a população do Brasil, com baixa margem de erro. Os resultados da pesquisa revelaram que, em primeiro lugar, os brasileiros consideram necessária a fé religiosa. De acordo com a pesquisa, as pessoas consideram a fé mais importante do que o estudo ou o trabalho, por exemplo, para melhorar de vida. Leia o texto do UOL que se transcreve abaixo, preste atenção nos percentuais e redija uma dissertação argumentativa apresentando sua opinião sobre a questão formulada na pesquisa: para você, dos itens mencionados, qual é o mais importante para melhorar de vida? Por quê? Apresente suas razões para justificar o seu ponto de vista.'"
      ]
     },
     "execution_count": 161,
     "metadata": {},
     "output_type": "execute_result"
    }
   ],
   "source": [
    "topic_text = \"\"\n",
    "for paragraph in eval(topic_example):\n",
    "    if not paragraph.endswith(\".\"):\n",
    "        paragraph = paragraph + \".\"\n",
    "    topic_text += paragraph\n",
    "print(type(topic_text))\n",
    "topic_text"
   ]
  },
  {
   "cell_type": "markdown",
   "metadata": {},
   "source": [
    "### Entendendo a coluna \"supporting text\" (texto motivador sobre o tema)"
   ]
  },
  {
   "cell_type": "code",
   "execution_count": 17,
   "metadata": {},
   "outputs": [
    {
     "data": {
      "text/plain": [
       "\"['Pessoas valorizam fé, em vez de estudo e trabalho, para melhorar de vida', 'A fé religiosa é o aspecto mais importante para melhorar de vida para 28% dos brasileiros, segundo uma pesquisa divulgada pela ONG Oxfam Brasil. Esse percentual supera até mesmo aqueles que consideram os estudos (21%) , o trabalho (11%) e ganhar mais dinheiro (8%) como o mais importante para ter uma vida melhor. Ter acesso à saúde foi citado como o mais importante para a melhoria de vida de 19% dos entrevistados na pesquisa da Oxfam, ocupando a terceira posição. Outros itens apontados na pesquisa como prioritários para a melhoria de vida foram: ter acesso à aposentadoria (6%) , apoio financeiro da família (5%) e cultura e lazer (2%) . Veja abaixo o que os brasileiros consideram mais importante para melhorar de vida, segundo a Oxfam: - Fé religiosa: 28% - Estudar: 21% - Ter acesso a atendimento de saúde: 19% - Crescer no trabalho: 11% - Ganhar mais dinheiro: 8% - Ter acesso à aposentadoria: 6% - Apoio financeiro da família: 5% - Cultura e lazer: 2% Pesquisa ouviu 2.086 pessoas em todo o país. A Oxfam encomendou a pesquisa ao Instituto Datafolha, que entrevistou pessoalmente 2.086 pessoas em 130 cidades de todos os estados brasileiros. As entrevistas foram feitas entre os dias 12 e 18 de fevereiro. A margem de erro para a amostragem geral é de dois pontos percentuais para mais ou para menos, considerando um nível de confiança de 95%. Por ser uma pesquisa amostral realizada em locais de grande circulação de pessoas, o Datafolha definiu uma amostra que busca refletir o perfil da sociedade brasileira conforme o último Censo, informou a Oxfam. UOL Economia']\""
      ]
     },
     "execution_count": 17,
     "metadata": {},
     "output_type": "execute_result"
    }
   ],
   "source": [
    "supporting_text_example = df.loc[0, \"supporting_text\"]\n",
    "supporting_text_example"
   ]
  },
  {
   "cell_type": "code",
   "execution_count": 20,
   "metadata": {},
   "outputs": [
    {
     "data": {
      "text/plain": [
       "['Pessoas valorizam fé, em vez de estudo e trabalho, para melhorar de vida',\n",
       " 'A fé religiosa é o aspecto mais importante para melhorar de vida para 28% dos brasileiros, segundo uma pesquisa divulgada pela ONG Oxfam Brasil. Esse percentual supera até mesmo aqueles que consideram os estudos (21%) , o trabalho (11%) e ganhar mais dinheiro (8%) como o mais importante para ter uma vida melhor. Ter acesso à saúde foi citado como o mais importante para a melhoria de vida de 19% dos entrevistados na pesquisa da Oxfam, ocupando a terceira posição. Outros itens apontados na pesquisa como prioritários para a melhoria de vida foram: ter acesso à aposentadoria (6%) , apoio financeiro da família (5%) e cultura e lazer (2%) . Veja abaixo o que os brasileiros consideram mais importante para melhorar de vida, segundo a Oxfam: - Fé religiosa: 28% - Estudar: 21% - Ter acesso a atendimento de saúde: 19% - Crescer no trabalho: 11% - Ganhar mais dinheiro: 8% - Ter acesso à aposentadoria: 6% - Apoio financeiro da família: 5% - Cultura e lazer: 2% Pesquisa ouviu 2.086 pessoas em todo o país. A Oxfam encomendou a pesquisa ao Instituto Datafolha, que entrevistou pessoalmente 2.086 pessoas em 130 cidades de todos os estados brasileiros. As entrevistas foram feitas entre os dias 12 e 18 de fevereiro. A margem de erro para a amostragem geral é de dois pontos percentuais para mais ou para menos, considerando um nível de confiança de 95%. Por ser uma pesquisa amostral realizada em locais de grande circulação de pessoas, o Datafolha definiu uma amostra que busca refletir o perfil da sociedade brasileira conforme o último Censo, informou a Oxfam. UOL Economia']"
      ]
     },
     "execution_count": 20,
     "metadata": {},
     "output_type": "execute_result"
    }
   ],
   "source": [
    "eval(supporting_text_example)"
   ]
  },
  {
   "cell_type": "code",
   "execution_count": 21,
   "metadata": {},
   "outputs": [
    {
     "data": {
      "text/plain": [
       "list"
      ]
     },
     "execution_count": 21,
     "metadata": {},
     "output_type": "execute_result"
    }
   ],
   "source": [
    "type(eval(supporting_text_example))"
   ]
  },
  {
   "cell_type": "code",
   "execution_count": 28,
   "metadata": {},
   "outputs": [
    {
     "name": "stdout",
     "output_type": "stream",
     "text": [
      "<class 'str'>\n"
     ]
    },
    {
     "data": {
      "text/plain": [
       "'Pessoas valorizam fé, em vez de estudo e trabalho, para melhorar de vida.A fé religiosa é o aspecto mais importante para melhorar de vida para 28% dos brasileiros, segundo uma pesquisa divulgada pela ONG Oxfam Brasil. Esse percentual supera até mesmo aqueles que consideram os estudos (21%) , o trabalho (11%) e ganhar mais dinheiro (8%) como o mais importante para ter uma vida melhor. Ter acesso à saúde foi citado como o mais importante para a melhoria de vida de 19% dos entrevistados na pesquisa da Oxfam, ocupando a terceira posição. Outros itens apontados na pesquisa como prioritários para a melhoria de vida foram: ter acesso à aposentadoria (6%) , apoio financeiro da família (5%) e cultura e lazer (2%) . Veja abaixo o que os brasileiros consideram mais importante para melhorar de vida, segundo a Oxfam: - Fé religiosa: 28% - Estudar: 21% - Ter acesso a atendimento de saúde: 19% - Crescer no trabalho: 11% - Ganhar mais dinheiro: 8% - Ter acesso à aposentadoria: 6% - Apoio financeiro da família: 5% - Cultura e lazer: 2% Pesquisa ouviu 2.086 pessoas em todo o país. A Oxfam encomendou a pesquisa ao Instituto Datafolha, que entrevistou pessoalmente 2.086 pessoas em 130 cidades de todos os estados brasileiros. As entrevistas foram feitas entre os dias 12 e 18 de fevereiro. A margem de erro para a amostragem geral é de dois pontos percentuais para mais ou para menos, considerando um nível de confiança de 95%. Por ser uma pesquisa amostral realizada em locais de grande circulação de pessoas, o Datafolha definiu uma amostra que busca refletir o perfil da sociedade brasileira conforme o último Censo, informou a Oxfam. UOL Economia.'"
      ]
     },
     "execution_count": 28,
     "metadata": {},
     "output_type": "execute_result"
    }
   ],
   "source": [
    "supporting_text = \"\"\n",
    "for paragraph in eval(supporting_text_example):\n",
    "    if not paragraph.endswith(\".\"):\n",
    "        paragraph = paragraph + \".\"\n",
    "    supporting_text += paragraph\n",
    "print(type(supporting_text))\n",
    "supporting_text"
   ]
  },
  {
   "cell_type": "markdown",
   "metadata": {},
   "source": [
    "### Entendendo a coluna \"title\" (título do tema)"
   ]
  },
  {
   "cell_type": "code",
   "execution_count": 78,
   "metadata": {},
   "outputs": [
    {
     "name": "stdout",
     "output_type": "stream",
     "text": [
      "O que é mais importante para vencer na vida?  \n"
     ]
    }
   ],
   "source": [
    "title_example = df.loc[0, \"title\"]\n",
    "print(title_example)"
   ]
  },
  {
   "cell_type": "code",
   "execution_count": 79,
   "metadata": {},
   "outputs": [
    {
     "name": "stdout",
     "output_type": "stream",
     "text": [
      "<class 'str'>\n"
     ]
    }
   ],
   "source": [
    "print(type(title_example))"
   ]
  },
  {
   "cell_type": "markdown",
   "metadata": {},
   "source": [
    "## Pré-processamento das redações para detecção de fuga ao tema"
   ]
  },
  {
   "cell_type": "code",
   "execution_count": 14,
   "metadata": {},
   "outputs": [],
   "source": [
    "class EssayDatasetPreprocessorForTopicDeviation:\n",
    "    COLUMNS_TO_REMOVE = [\n",
    "        \"title\",\n",
    "        \"final_grade\",\n",
    "        \"is_ENEM\",\n",
    "        \"is_convertible\",\n",
    "        \"general\",\n",
    "        \"specific\",\n",
    "        \"grades\",\n",
    "    ]\n",
    "    RENAME_COLUMNS_MAP = {\n",
    "        \"id\": \"essay_id\",\n",
    "        \"id_prompt\": \"topic_id\",\n",
    "        \"essay\": \"essay_text\",\n",
    "    }\n",
    "    SECOND_GRADE_INDEX = 1\n",
    "    POSITIVE_LABEL = 1\n",
    "    NEGATIVE_LABEL = 0\n",
    "    GRADE_THRESHOLD = 0\n",
    "    TEST_DATASET_SIZE = 0.15\n",
    "    ESSAY_ID_COLUMN = \"essay_id\"\n",
    "\n",
    "    def __init__(self, dataset: Dataset):\n",
    "        self.original_dataset = dataset\n",
    "\n",
    "    def preprocess_dataset(self) -> DatasetDict:\n",
    "        self.train_dataset = (\n",
    "            self.original_dataset.rename_columns(self.RENAME_COLUMNS_MAP)\n",
    "            .map(self._preprocess_essay)\n",
    "            .map(self._create_column_for_topic_deviation_label)\n",
    "            .map(lambda example: self._set_is_artificial_value(False, example))\n",
    "        )\n",
    "        self.train_dataset = self._create_column_to_categorize_artificial_examples(\n",
    "            self.train_dataset, is_artificial=False\n",
    "        )\n",
    "\n",
    "        self.artificial_negative_examples_dataset = (\n",
    "            self._create_artificial_negative_examples_dataset()\n",
    "        )\n",
    "        self.artificial_negative_examples_dataset = (\n",
    "            self._create_column_to_categorize_artificial_examples(\n",
    "                self.artificial_negative_examples_dataset, is_artificial=True\n",
    "            )\n",
    "        )\n",
    "\n",
    "        self.train_dataset = concatenate_datasets(\n",
    "            [self.train_dataset, self.artificial_negative_examples_dataset]\n",
    "        ).remove_columns(self.COLUMNS_TO_REMOVE)\n",
    "\n",
    "        self.test_dataset = self._create_test_dataset()\n",
    "\n",
    "        self.train_dataset = self._remove_rows_from_dataset(\n",
    "            rows_to_remove=self.test_dataset, dataset_to_remove_from=self.train_dataset\n",
    "        )\n",
    "\n",
    "        self.dataset_dict = DatasetDict({\"train\": self.train_dataset, \"test\": self.test_dataset})\n",
    "\n",
    "        return self.dataset_dict\n",
    "\n",
    "    def _preprocess_essay(self, example):\n",
    "        essay_before = example[\"essay_text\"]\n",
    "        essay_after = \"\"\n",
    "\n",
    "        paragraphs = eval(essay_before)\n",
    "        for paragraph in paragraphs:\n",
    "            essay_after += paragraph\n",
    "\n",
    "        example[\"essay_text\"] = essay_after\n",
    "        return example\n",
    "\n",
    "    def _create_column_for_topic_deviation_label(self, example):\n",
    "        grades_list = eval(example[\"grades\"])\n",
    "        second_grade = grades_list[self.SECOND_GRADE_INDEX]\n",
    "\n",
    "        if second_grade > self.GRADE_THRESHOLD:\n",
    "            example[\"label\"] = self.POSITIVE_LABEL\n",
    "        else:\n",
    "            example[\"label\"] = self.NEGATIVE_LABEL\n",
    "\n",
    "        return example\n",
    "\n",
    "    def _create_column_to_categorize_artificial_examples(self, dataset, is_artificial):\n",
    "        return dataset.map(lambda example: self._set_is_artificial_value(is_artificial, example))\n",
    "\n",
    "    def _set_is_artificial_value(self, is_artificial, example):\n",
    "        example[\"is_artificial\"] = is_artificial\n",
    "        return example\n",
    "\n",
    "    def _create_artificial_negative_examples_dataset(self):\n",
    "        positive_examples_dataset = self.train_dataset.filter(\n",
    "            lambda example: example[\"label\"] == self.POSITIVE_LABEL\n",
    "        )\n",
    "        negative_examples_dataset = self.train_dataset.filter(\n",
    "            lambda example: example[\"label\"] == self.NEGATIVE_LABEL\n",
    "        )\n",
    "\n",
    "        positive_examples_dataset.set_format(\"pandas\")\n",
    "\n",
    "        positive_examples_df = positive_examples_dataset[:]\n",
    "\n",
    "        number_of_artificial_examples = len(positive_examples_dataset) - len(\n",
    "            negative_examples_dataset\n",
    "        )\n",
    "\n",
    "        artificial_negative_examples_df = positive_examples_df.sample(\n",
    "            n=number_of_artificial_examples\n",
    "        )\n",
    "\n",
    "        min_topic_id = min(self.train_dataset[\"topic_id\"])\n",
    "        max_topic_id = max(self.train_dataset[\"topic_id\"])\n",
    "\n",
    "        artificial_negative_examples_df[\"topic_id\"] = artificial_negative_examples_df[\n",
    "            \"topic_id\"\n",
    "        ].apply(\n",
    "            lambda topic_id: self._random_integer_with_blacklist(\n",
    "                min_topic_id, max_topic_id, [topic_id]\n",
    "            )\n",
    "        )\n",
    "        artificial_negative_examples_df[\"label\"] = self.NEGATIVE_LABEL\n",
    "\n",
    "        artificial_negative_examples_dataset = Dataset.from_pandas(\n",
    "            artificial_negative_examples_df, preserve_index=False\n",
    "        )\n",
    "\n",
    "        return artificial_negative_examples_dataset\n",
    "\n",
    "    def _random_integer_with_blacklist(self, min_val, max_val, blacklist):\n",
    "        while True:\n",
    "            random_num = random.randint(min_val, max_val)\n",
    "            if random_num not in blacklist:\n",
    "                return random_num\n",
    "\n",
    "    def _create_test_dataset(self):\n",
    "        original_negative_examples = self.train_dataset.filter(\n",
    "            lambda example: example[\"label\"] == self.NEGATIVE_LABEL\n",
    "            and example[\"is_artificial\"] == False\n",
    "        )\n",
    "        artificial_negative_examples = self.train_dataset.filter(\n",
    "            lambda example: example[\"label\"] == self.NEGATIVE_LABEL\n",
    "            or example[\"is_artificial\"] == True\n",
    "        )\n",
    "        positive_examples = self.train_dataset.filter(\n",
    "            lambda example: example[\"label\"] == self.POSITIVE_LABEL\n",
    "        )\n",
    "\n",
    "        num_of_original_negative_examples = 10\n",
    "        test_original_negative_examples = original_negative_examples.shuffle().select(\n",
    "            range(num_of_original_negative_examples)\n",
    "        )\n",
    "\n",
    "        num_of_negative_examples = num_of_positive_examples = int(\n",
    "            self.TEST_DATASET_SIZE * len(train_dataset) / 2\n",
    "        )\n",
    "        num_of_missing_negative_examples = (\n",
    "            num_of_negative_examples - num_of_original_negative_examples\n",
    "        )\n",
    "\n",
    "        test_artificial_negative_examples = artificial_negative_examples.shuffle().select(\n",
    "            range(num_of_missing_negative_examples)\n",
    "        )\n",
    "\n",
    "        test_positive_examples = positive_examples.shuffle().select(range(num_of_positive_examples))\n",
    "\n",
    "        test_dataset = concatenate_datasets(\n",
    "            [\n",
    "                test_positive_examples,\n",
    "                test_artificial_negative_examples,\n",
    "                test_original_negative_examples,\n",
    "            ]\n",
    "        ).shuffle()\n",
    "\n",
    "        return test_dataset\n",
    "\n",
    "    def _remove_rows_from_dataset(self, rows_to_remove: Dataset, dataset_to_remove_from: Dataset):\n",
    "        ids_to_remove = set(rows_to_remove[self.ESSAY_ID_COLUMN])\n",
    "        return dataset_to_remove_from.filter(\n",
    "            lambda example: self._keep_example_if_not_in_remove_list(ids_to_remove, example)\n",
    "        )\n",
    "\n",
    "    def _keep_example_if_not_in_remove_list(self, ids_to_remove, example):\n",
    "        return example[self.ESSAY_ID_COLUMN] not in ids_to_remove"
   ]
  },
  {
   "cell_type": "code",
   "execution_count": 7,
   "metadata": {},
   "outputs": [
    {
     "data": {
      "text/plain": [
       "DatasetDict({\n",
       "    train: Dataset({\n",
       "        features: ['id', 'id_prompt', 'title', 'essay', 'grades', 'final_grade', 'is_ENEM', 'is_convertible', 'general', 'specific'],\n",
       "        num_rows: 385\n",
       "    })\n",
       "})"
      ]
     },
     "execution_count": 7,
     "metadata": {},
     "output_type": "execute_result"
    }
   ],
   "source": [
    "dataset_dict = load_dataset(\"csv\", data_files=raw_essay_dataset_filepath)\n",
    "train_dataset = dataset_dict[\"train\"]\n",
    "dataset_dict"
   ]
  },
  {
   "cell_type": "code",
   "execution_count": 9,
   "metadata": {},
   "outputs": [
    {
     "data": {
      "text/plain": [
       "Dataset({\n",
       "    features: ['id', 'id_prompt', 'title', 'essay', 'grades', 'final_grade', 'is_ENEM', 'is_convertible', 'general', 'specific'],\n",
       "    num_rows: 385\n",
       "})"
      ]
     },
     "execution_count": 9,
     "metadata": {},
     "output_type": "execute_result"
    }
   ],
   "source": [
    "train_dataset = dataset_dict[\"train\"]\n",
    "train_dataset"
   ]
  },
  {
   "cell_type": "code",
   "execution_count": 15,
   "metadata": {},
   "outputs": [
    {
     "name": "stderr",
     "output_type": "stream",
     "text": [
      "Map: 100%|██████████| 385/385 [00:00<00:00, 2911.09 examples/s]\n",
      "Map: 100%|██████████| 385/385 [00:00<00:00, 3241.27 examples/s]\n",
      "Map: 100%|██████████| 385/385 [00:00<00:00, 5404.20 examples/s]\n",
      "Map: 100%|██████████| 385/385 [00:00<00:00, 3095.19 examples/s]\n",
      "Filter: 100%|██████████| 385/385 [00:00<00:00, 12964.40 examples/s]\n",
      "Filter: 100%|██████████| 385/385 [00:00<00:00, 13623.84 examples/s]\n",
      "Map: 100%|██████████| 271/271 [00:00<00:00, 4208.20 examples/s]\n",
      "Filter: 100%|██████████| 656/656 [00:00<00:00, 22006.95 examples/s]\n",
      "Filter: 100%|██████████| 656/656 [00:00<00:00, 44522.78 examples/s]\n",
      "Filter: 100%|██████████| 656/656 [00:00<00:00, 47440.66 examples/s]\n",
      "Filter: 100%|██████████| 656/656 [00:00<00:00, 28320.06 examples/s]\n"
     ]
    },
    {
     "data": {
      "text/plain": [
       "DatasetDict({\n",
       "    train: Dataset({\n",
       "        features: ['essay_id', 'topic_id', 'essay_text', 'label', 'is_artificial'],\n",
       "        num_rows: 567\n",
       "    })\n",
       "    test: Dataset({\n",
       "        features: ['essay_id', 'topic_id', 'essay_text', 'label', 'is_artificial'],\n",
       "        num_rows: 56\n",
       "    })\n",
       "})"
      ]
     },
     "execution_count": 15,
     "metadata": {},
     "output_type": "execute_result"
    }
   ],
   "source": [
    "preprocessor = EssayDatasetPreprocessorForTopicDeviation(train_dataset)\n",
    "preprocessed_dataset_dict = preprocessor.preprocess_dataset()\n",
    "preprocessed_dataset_dict"
   ]
  },
  {
   "cell_type": "code",
   "execution_count": 16,
   "metadata": {},
   "outputs": [
    {
     "name": "stderr",
     "output_type": "stream",
     "text": [
      "Saving the dataset (1/1 shards): 100%|██████████| 567/567 [00:00<00:00, 24905.18 examples/s]\n",
      "Saving the dataset (1/1 shards): 100%|██████████| 56/56 [00:00<00:00, 3643.49 examples/s]\n"
     ]
    }
   ],
   "source": [
    "# Save preprocessed dataset for later use:\n",
    "preprocessed_dataset_dict.save_to_disk())"
   ]
  },
  {
   "cell_type": "markdown",
   "metadata": {},
   "source": [
    "## Pré-processamento do dataset de temas para detecção de fuga ao tema"
   ]
  },
  {
   "cell_type": "code",
   "execution_count": 17,
   "metadata": {},
   "outputs": [],
   "source": [
    "class TopicDatasetPreprocessorForTopicDeviation:\n",
    "    COLUMNS_TO_REMOVE = [\"source\", \"title\", \"prompt\", \"supporting_text\"]\n",
    "    RENAME_COLUMNS_MAP = {\n",
    "        \"id\": \"topic_id\",\n",
    "    }\n",
    "    PARAGRAPH_ENDINGS = [\".\", \"?\", \"!\"]\n",
    "\n",
    "    def __init__(self, dataset: Dataset):\n",
    "        self.dataset = dataset\n",
    "\n",
    "    def preprocess_dataset(self):\n",
    "        self.preprocessed_dataset = (\n",
    "            self.dataset.rename_columns(self.RENAME_COLUMNS_MAP)\n",
    "            .map(self._concatenate_texts)\n",
    "            .remove_columns(self.COLUMNS_TO_REMOVE)\n",
    "        )\n",
    "        return self.preprocessed_dataset\n",
    "\n",
    "    def _concatenate_texts(self, example):\n",
    "        concatenated_texts = \"\"\n",
    "\n",
    "        topic = example[\"prompt\"]\n",
    "        supporting_text = example[\"supporting_text\"]\n",
    "\n",
    "        # This try-catch block is necessary because some titles have quotes around it,\n",
    "        # but others don't.\n",
    "        try:\n",
    "            title = eval(example[\"title\"])\n",
    "        except SyntaxError as error:\n",
    "            title = example[\"title\"]\n",
    "\n",
    "        paragraphs = [title] + eval(supporting_text) + eval(topic)\n",
    "\n",
    "        for paragraph in paragraphs:\n",
    "            has_desired_ending = False\n",
    "            for ending in self.PARAGRAPH_ENDINGS:\n",
    "                if paragraph.endswith(ending):\n",
    "                    has_desired_ending = True\n",
    "                    break\n",
    "\n",
    "            if not has_desired_ending:\n",
    "                paragraph = paragraph + \".\"\n",
    "\n",
    "            concatenated_texts += paragraph\n",
    "\n",
    "        example[\"topic_text\"] = concatenated_texts\n",
    "        return example"
   ]
  },
  {
   "cell_type": "code",
   "execution_count": 18,
   "metadata": {},
   "outputs": [
    {
     "data": {
      "text/plain": [
       "DatasetDict({\n",
       "    train: Dataset({\n",
       "        features: ['id', 'source', 'title', 'prompt', 'supporting_text'],\n",
       "        num_rows: 44\n",
       "    })\n",
       "})"
      ]
     },
     "execution_count": 18,
     "metadata": {},
     "output_type": "execute_result"
    }
   ],
   "source": [
    "dataset_dict = load_dataset(\"csv\", data_files=raw_topic_dataset_filepath)\n",
    "dataset_dict"
   ]
  },
  {
   "cell_type": "code",
   "execution_count": 19,
   "metadata": {},
   "outputs": [
    {
     "data": {
      "text/plain": [
       "Dataset({\n",
       "    features: ['id', 'source', 'title', 'prompt', 'supporting_text'],\n",
       "    num_rows: 44\n",
       "})"
      ]
     },
     "execution_count": 19,
     "metadata": {},
     "output_type": "execute_result"
    }
   ],
   "source": [
    "train_dataset = dataset_dict[\"train\"]\n",
    "train_dataset"
   ]
  },
  {
   "cell_type": "code",
   "execution_count": 20,
   "metadata": {},
   "outputs": [
    {
     "name": "stderr",
     "output_type": "stream",
     "text": [
      "Map: 100%|██████████| 44/44 [00:00<00:00, 1604.29 examples/s]\n"
     ]
    },
    {
     "data": {
      "text/plain": [
       "Dataset({\n",
       "    features: ['topic_id', 'topic_text'],\n",
       "    num_rows: 44\n",
       "})"
      ]
     },
     "execution_count": 20,
     "metadata": {},
     "output_type": "execute_result"
    }
   ],
   "source": [
    "preprocessor = TopicDatasetPreprocessorForTopicDeviation(train_dataset)\n",
    "preprocessed_topic_dataset = preprocessor.preprocess_dataset()\n",
    "preprocessed_topic_dataset"
   ]
  },
  {
   "cell_type": "code",
   "execution_count": 21,
   "metadata": {},
   "outputs": [
    {
     "name": "stdout",
     "output_type": "stream",
     "text": [
      "O que é mais importante para vencer na vida?  .Pessoas valorizam fé, em vez de estudo e trabalho, para melhorar de vida.A fé religiosa é o aspecto mais importante para melhorar de vida para 28% dos brasileiros, segundo uma pesquisa divulgada pela ONG Oxfam Brasil. Esse percentual supera até mesmo aqueles que consideram os estudos (21%) , o trabalho (11%) e ganhar mais dinheiro (8%) como o mais importante para ter uma vida melhor. Ter acesso à saúde foi citado como o mais importante para a melhoria de vida de 19% dos entrevistados na pesquisa da Oxfam, ocupando a terceira posição. Outros itens apontados na pesquisa como prioritários para a melhoria de vida foram: ter acesso à aposentadoria (6%) , apoio financeiro da família (5%) e cultura e lazer (2%) . Veja abaixo o que os brasileiros consideram mais importante para melhorar de vida, segundo a Oxfam: - Fé religiosa: 28% - Estudar: 21% - Ter acesso a atendimento de saúde: 19% - Crescer no trabalho: 11% - Ganhar mais dinheiro: 8% - Ter acesso à aposentadoria: 6% - Apoio financeiro da família: 5% - Cultura e lazer: 2% Pesquisa ouviu 2.086 pessoas em todo o país. A Oxfam encomendou a pesquisa ao Instituto Datafolha, que entrevistou pessoalmente 2.086 pessoas em 130 cidades de todos os estados brasileiros. As entrevistas foram feitas entre os dias 12 e 18 de fevereiro. A margem de erro para a amostragem geral é de dois pontos percentuais para mais ou para menos, considerando um nível de confiança de 95%. Por ser uma pesquisa amostral realizada em locais de grande circulação de pessoas, o Datafolha definiu uma amostra que busca refletir o perfil da sociedade brasileira conforme o último Censo, informou a Oxfam. UOL Economia.Reportagem publicada pelo UOL Economia no mês passado apresenta uma pesquisa realizada pelo Datafolha em que se perguntava aos entrevistados qual o fator mais importante para se conquistar uma vida melhor. A amostragem reflete toda a população do Brasil, com baixa margem de erro. Os resultados da pesquisa revelaram que, em primeiro lugar, os brasileiros consideram necessária a fé religiosa. De acordo com a pesquisa, as pessoas consideram a fé mais importante do que o estudo ou o trabalho, por exemplo, para melhorar de vida. Leia o texto do UOL que se transcreve abaixo, preste atenção nos percentuais e redija uma dissertação argumentativa apresentando sua opinião sobre a questão formulada na pesquisa: para você, dos itens mencionados, qual é o mais importante para melhorar de vida? Por quê? Apresente suas razões para justificar o seu ponto de vista.\n",
      "Brasileiros têm \"péssima educação argumentativa\", segundo cientista  .Patrulha moralista.Estão todos com pedras na mão prontos para mirar no próximo infiel que dê o menor sinal de pecador. Uma frase mal colocada, um título com ironia ou a falta de reverência a uma causa bastam para os patrulheiros começarem o massacre moralista no Facebook. A patrulha moralista domina tanto a esquerda quanto a direita. Olavo de Carvalho leu um gibi da \"Turma da Mônica\" com a frase \"meu corpo, minhas regras\" e em milésimos de segundo concluiu: a revistinha havia se transformado \"num odiento discurso abortista\"! A roteirista da publicação foi ameaçada e ganhou montagens com ofensas. Na verdade, a Mônica do gibi usou a frase para reclamar de quem insistia para ela usar aparelho dentário e deixar de ser dentuça. Na esquerda, Jean Wyllys é quem costuma entender errado declarações só para ouriçar seus seguidores e ganhar compartilhamentos. Em 2012, Gilberto Dimenstein se perguntou aqui na Folha se São Paulo precisava \"importar um baiano\" para a secretaria de Cultura. Bastava ler o texto para perceber que o colunista defendia a contratação do baiano Juca Ferreira porque São Paulo \"é aberta, marcada pela diversidade\". Mas Jean Wyllys não quis entender: viu ali uma demonstração de xenofobia e de ódio paulista aos nordestinos. Leandro Narloch, Folha de S. Paulo.Discussão serve para construir conhecimento.Não é fácil vencer uma discussão. Especialmente em um contexto inflamado, em que as opiniões se polarizam, notícias falsas se proliferam, debatedores recorrem a ofensas e sarcasmo e festas de fim de ano criam ambientes propícios para a briga. Uma boa discussão, ao contrário do que a maior parte das pessoas pensa, não serve para a disputa - e, sim, para a construção do conhecimento. Nesse sentido, saber sustentar uma boa argumentação é fundamental. Walter Carnielli, matemático, professor de lógica na Unicamp (Universidade Estadual de Campinas) e autor de Pensamento crítico - o poder da lógica e da argumentação, livro escrito em parceria com o matemático americano Richard L. Epstein, explica: “Um argumento é uma ‘viagem lógica’ que vai das premissas à conclusão. Conforme a definição dada no nosso livro, um bom argumento é aquele em que há boas razões para que as premissas sejam verdadeiras, e, para além disso, as premissas apresentam boas razões para suportar ou apoiar a conclusão” . Para Carnielli, os brasileiros têm uma “péssima educação argumentativa” . Confundimos discussão com briga e não sabemos lidar bem com críticas. Mas há técnicas que podem ajudar na construção de bons argumentos - e também a evitar armadilhas comuns em uma discussão, como o uso de falácias. Ainda segundo o autor: “Existe um princípio metodológico importante na argumentação que é o Princípio da Acomodação Racional, também conhecido como Princípio da Caridade, e que foi tratado por filósofos de peso como Willard Van Orman Quine e Donald Davidson. O princípio exige que devemos tentar entender o ponto de vista do oponente em sua forma mais forte e persuasiva antes de submeter sua visão à nossa avaliação. Dessa forma, devemos primeiro fazer todos os esforços para esclarecer as premissas e a conclusão do oponente, inclusive ajudando-o a reparar os pontos fracos. Só então, após essa atitude respeitosa, é que devemos gentilmente apontar a ela ou a ele onde suas premissas são falhas ou duvidosas, e/ou porque tais premissas não apoiam a conclusão. (...) É a maneira mais respeitosa e produtiva de manter uma discussão honesta” . Nexo - Jornal Digital (editado pelo Banco de Redações UOL) .Polarização. Você já deve ter ouvido essa palavra recentemente, aplicada às opiniões de grande parte da população brasileira, em especial no que se refere a questões políticas. A polarização surge da divergência de ideias e tem gerado não somente discussões e debates, mas verdadeiros conflitos, nem sempre no âmbito exclusivamente verbal. Diante desse vale-tudo, é o caso de se perguntar: é para isso que serve o debate, a discussão, o confronto de ideias? Os brasileiros não têm uma correta educação argumentativa? Leia os textos que integram esta proposta de redação, reflita sobre o assunto e redija uma dissertação argumentativa em forma de carta, em que você vai tentar explicar ao destinatário como deve ser um debate, para que ele dê resultados, produza esclarecimento para ambas as partes e seja, afinal, construtivo. Você é capaz de argumentar sobre o modo correto de debater, evitando a polarização?\n",
      "Como melhorar a educação, sem valorizar o professor?  .Relação comprometida.De acordo com muitos educadores, a relação entre professor e aluno se encontra comprometida em razão de vários fatores, dentre eles a perda do respeito pelo professor, pois é notável a sua desvalorização por parte da sociedade e dos alunos. O professor é considerado pela sociedade, em muitos casos, como alguém que não conseguiu fazer outra coisa, esquecem que o mesmo, para exercer tal função, graduou-se em uma área específica e, portanto, possui capacidade para lecionar. No âmbito escolar, em muitos casos, os próprios alunos não acham importante o trabalho do professor, fato proveniente da falta de interesse que assola uma enorme quantidade de escolas brasileiras. Brasil Escola  .Professores milionários.Na Coreia do Sul os professores estão entre os membros mais respeitados da sociedade. Um provérbio antigo afirma que o professor e o rei têm o mesmo status, e outro garante que ninguém deveria sequer pisar na sombra de um professor. Os estudantes mais talentosos querem entrar nas cobiçadas faculdades de magistério, que selecionam os melhores entre milhares de candidatos. E se os professores também são bons de mídia, podem chegar a se transformar em celebridades milionárias. BBC Brasil.Maior número de agressões.De acordo com a mais recente pesquisa da OCDE (Organização para a Cooperação e Desenvolvimento Econômico) , publicada em 2013, o Brasil é o país com maior número de agressões a professores no mundo: 12,5% dos profissionais já disseram ter sofrido com o problema. Os educadores têm medo. Uma pesquisa feita em 2013 pelo Sindicato dos Professores do Estado de São Paulo (Apeoesp) , com 1.400 professores da escola pública, aponta que 57% dos docentes não se sentem seguros em suas unidades. A violência tem alterado a vida desses profissionais, que não querem parar de dar aula, mas também não sabem como lidar com a situação. UOL Educação.No fim da lista.Foram 21 países estudados. A China, de longe, foi o país onde o professor é mais respeitado, recebendo quase o status de um médico. Em compensação, o Brasil fica na outra ponta e, embora as pessoas confiem no trabalho desses profissionais, acreditam que o professor receba muito pouco respeito de nossa sociedade. Tanto é verdade que, de todos os países pesquisados, o Brasil é um dos que menos os pais querem ver seus filhos professores. Isso significa que, embora deixem seus filhos nas mãos de um professor durante grande parte do dia, os pais menosprezam ou subestimam esse profissional. Esse desrespeito, obviamente, passa tanto pelos salários, como pela forma de tratamento que os estudantes dão aos professores em sala de aula. É óbvio que não é apenas no Brasil que os educadores não desfrutam do mesmo status de um médico. Mas o Brasil está no fim da lista e, para um país que, alegadamente, “investe tanto em Educação” , deveríamos ter índices um pouco melhores – não é? QS  .Todos sabem: o país precisa melhorar muito seu sistema educacional e investir na educação, para progredir. Não só isso: sabe-se o papel que a educação também desempenha no nível pessoal, sendo decisiva para o sucesso no trabalho. Há décadas, várias medidas vêm sendo tomadas pelo Governo Federal, seguido pelos governos estaduais e municipais, para avançar na solução do problema. Criaram-se exames nacionais de avaliação do estudante, construíram-se escolas, reformulam-se currículos, etc. No entanto, uma peça-chave do processo é sempre deixada de lado: o professor. Num ranking internacional sobre a valorização social do professor, o Brasil ficou no penúltimo lugar. Além da desvalorização, ainda são comuns o desrespeito dos alunos e de seus pais, para não falar em casos de agressão aos mestres, como aconteceu recentemente em Santa Catarina. Diante disso tudo, queremos saber: é possível melhorar a educação no Brasil sem levar em conta a situação do professor? O que deve ser feito para melhorá-la, não só no âmbito salarial? Como trazer dignidade, respeito e até segurança ao principal responsável pelo processo educacional? Redija uma dissertação argumentativa sobre esse problema.\n"
     ]
    }
   ],
   "source": [
    "samples = preprocessed_topic_dataset.select([0, 5, 10])\n",
    "for sample in samples:\n",
    "    print(sample[\"topic_text\"])"
   ]
  },
  {
   "cell_type": "code",
   "execution_count": 24,
   "metadata": {},
   "outputs": [
    {
     "name": "stderr",
     "output_type": "stream",
     "text": [
      "Saving the dataset (1/1 shards): 100%|██████████| 44/44 [00:00<00:00, 3708.86 examples/s]\n"
     ]
    }
   ],
   "source": [
    "# Save preprocessed dataset for later use:\n",
    "dataset_dict[\"train\"] = preprocessed_topic_dataset\n",
    "dataset_dict.save_to_disk(preprocessed_topic_dataset_filepath)"
   ]
  },
  {
   "cell_type": "markdown",
   "metadata": {},
   "source": [
    "## Combinação do dataset de redações com o de temas"
   ]
  },
  {
   "cell_type": "code",
   "execution_count": 35,
   "metadata": {},
   "outputs": [],
   "source": [
    "class EssayAndTopicDatasetsCombinator:\n",
    "    COLUMNS_ORDER = [\"essay_id\", \"essay_text\", \"topic_id\", \"topic_text\", \"label\"]\n",
    "    SPLITS = [\"test\", \"train\"]\n",
    "\n",
    "    def combine(self, essay_dataset_dict: DatasetDict, topic_dataset: Dataset) -> DatasetDict:\n",
    "        topic_dataset.set_format(\"pandas\")\n",
    "        topic_df = topic_dataset[:].set_index(\"topic_id\")\n",
    "        combined_dataset_dict = {}\n",
    "\n",
    "        for split in self.SPLITS:\n",
    "            essay_dataset = essay_dataset_dict[split]\n",
    "            essay_dataset.set_format(\"pandas\")\n",
    "\n",
    "            essay_df = essay_dataset[:]\n",
    "\n",
    "            combined_df = essay_df.join(topic_df, on=\"topic_id\")\n",
    "            combined_df = combined_df.loc[:, self.COLUMNS_ORDER]\n",
    "\n",
    "            essay_dataset.set_format()\n",
    "\n",
    "            combined_dataset = Dataset.from_pandas(combined_df, preserve_index=False)\n",
    "\n",
    "            combined_dataset_dict[split] = combined_dataset\n",
    "\n",
    "        combined_dataset_dict = DatasetDict(combined_dataset_dict)\n",
    "\n",
    "        return combined_dataset_dict"
   ]
  },
  {
   "cell_type": "code",
   "execution_count": 36,
   "metadata": {},
   "outputs": [
    {
     "data": {
      "text/plain": [
       "DatasetDict({\n",
       "    train: Dataset({\n",
       "        features: ['essay_id', 'topic_id', 'essay_text', 'label', 'is_artificial'],\n",
       "        num_rows: 567\n",
       "    })\n",
       "    test: Dataset({\n",
       "        features: ['essay_id', 'topic_id', 'essay_text', 'label', 'is_artificial'],\n",
       "        num_rows: 56\n",
       "    })\n",
       "})"
      ]
     },
     "execution_count": 36,
     "metadata": {},
     "output_type": "execute_result"
    }
   ],
   "source": [
    "essay_dataset_dict = load_from_disk(preprocessed_essay_dataset_filepath)\n",
    "essay_dataset_dict"
   ]
  },
  {
   "cell_type": "code",
   "execution_count": 37,
   "metadata": {},
   "outputs": [
    {
     "data": {
      "text/plain": [
       "Dataset({\n",
       "    features: ['topic_id', 'topic_text'],\n",
       "    num_rows: 44\n",
       "})"
      ]
     },
     "execution_count": 37,
     "metadata": {},
     "output_type": "execute_result"
    }
   ],
   "source": [
    "topic_dataset = load_from_disk(preprocessed_topic_dataset_filepath)[\"train\"]\n",
    "topic_dataset"
   ]
  },
  {
   "cell_type": "code",
   "execution_count": 38,
   "metadata": {},
   "outputs": [
    {
     "data": {
      "text/plain": [
       "<__main__.EssayAndTopicDatasetsCombinator at 0x7fbf0c541910>"
      ]
     },
     "execution_count": 38,
     "metadata": {},
     "output_type": "execute_result"
    }
   ],
   "source": [
    "combinator = EssayAndTopicDatasetsCombinator()\n",
    "combinator"
   ]
  },
  {
   "cell_type": "code",
   "execution_count": 40,
   "metadata": {},
   "outputs": [
    {
     "data": {
      "text/plain": [
       "DatasetDict({\n",
       "    test: Dataset({\n",
       "        features: ['essay_id', 'essay_text', 'topic_id', 'topic_text', 'label'],\n",
       "        num_rows: 56\n",
       "    })\n",
       "    train: Dataset({\n",
       "        features: ['essay_id', 'essay_text', 'topic_id', 'topic_text', 'label'],\n",
       "        num_rows: 567\n",
       "    })\n",
       "})"
      ]
     },
     "execution_count": 40,
     "metadata": {},
     "output_type": "execute_result"
    }
   ],
   "source": [
    "combined_dataset_dict = combinator.combine(essay_dataset_dict, topic_dataset)\n",
    "combined_dataset_dict"
   ]
  },
  {
   "cell_type": "code",
   "execution_count": 44,
   "metadata": {},
   "outputs": [
    {
     "name": "stderr",
     "output_type": "stream",
     "text": [
      "Saving the dataset (1/1 shards): 100%|██████████| 56/56 [00:00<00:00, 3238.18 examples/s]\n",
      "Saving the dataset (1/1 shards): 100%|██████████| 567/567 [00:00<00:00, 53591.36 examples/s]\n"
     ]
    }
   ],
   "source": [
    "# Save processed dataset for later use:\n",
    "combined_dataset_dict.save_to_disk(processed_dataset_filepath)"
   ]
  },
  {
   "cell_type": "markdown",
   "metadata": {},
   "source": [
    "## Exemplo da tokenização de uma redação"
   ]
  },
  {
   "cell_type": "code",
   "execution_count": 45,
   "metadata": {},
   "outputs": [
    {
     "data": {
      "text/plain": [
       "DatasetDict({\n",
       "    train: Dataset({\n",
       "        features: ['essay_id', 'topic_id', 'essay_text', 'label', 'is_artificial'],\n",
       "        num_rows: 567\n",
       "    })\n",
       "    test: Dataset({\n",
       "        features: ['essay_id', 'topic_id', 'essay_text', 'label', 'is_artificial'],\n",
       "        num_rows: 56\n",
       "    })\n",
       "})"
      ]
     },
     "execution_count": 45,
     "metadata": {},
     "output_type": "execute_result"
    }
   ],
   "source": [
    "essay_dataset_dict = load_from_disk(preprocessed_essay_dataset_filepath)\n",
    "essay_dataset_dict"
   ]
  },
  {
   "cell_type": "code",
   "execution_count": 46,
   "metadata": {},
   "outputs": [
    {
     "name": "stdout",
     "output_type": "stream",
     "text": [
      "Em 2014, durante o governo Dilma Rousseff, iniciava a operação Lava Jato que tinha o objetivo de investigar casos de corrupção envolvendo empresas estatais, como: a Petrobras. Em virtude disso, várias notícias relatando a participação de políticos em esquemas fraudulentos começaram a surgir e causar indignação na população. Por conseguinte, o anseio da sociedade em acompanhar os desdobramentos desses fatos ocasionaram a notoriedade do Supremo Tribunal Federal.Mormente, ao avaliar que, o papel desse órgão judiciário, consiste na guarda da Constituição Federal e no julgamento de ocorrências concernentes ao Congresso Nacional ou há casos que sejam relevantes para todo o país. Nessa conjectura, é indiscutível a importância das atribuições do Supremo Tribunal Federal, visto que algumas pautas, como: a criminalização da homofobia, trouxeram grandes avanços para a sociedade. Entretanto, processos envolvendo ex-presidentes, ministros e ex-assessores ganharam destaque em âmbito nacional devido a postura dos membros da corte.Ademais, convém salientar que, segundo o instituto Datafolha, 39% dos brasileiros desaprovam a conduta do Supremo Tribunal Federal, pois vereditos e decisões questionáveis homologadas pelo órgão, como: a suspensão de investigações contra políticos, absolvição e soltura de indivíduos presos em operações judiciais e aprovação de habeas corpus controversos são fatores corroborantes para o aumento da taxa de reprovação da corte.Dado o exposto, faz-se necessário, mediante o Ministério de Ciência e Tecnologia em parceria com o Supremo Tribunal Federal, a ampliação de fóruns virtuais para difundir as atribuições e deveres desse órgão público a fim de policiar e informar a sociedade sobre as pautas discutidas pela corte. Consoante ao ex presidente africano Nelson Mandela, \"Se falares uma linguagem que o homem compreenda, a tua mensagem entrará em outras mentes\", diante disso, é fundamental a parceria do STF com os veículos de comunicação, para propagar numa linguagem sucinta e objetiva mensagens que visem a aproximação amigável entre a população e o Supremo Tribunal Federal.\n",
      "Há alguns dias os jovens estão passando por um caso muito democrático, pois seus direitos estão sendo bastante, prejudicado.Por tanto nem todo mundo tem condições exatas para poder pagar ou entrar em uma Universidade.Exatamente durante o mês de maio foi onde ocorreu, varios debates sobre o assunto, onde alguns são a favor e outros contra a Universidade ser de gratuita. Mais se todos aparecem pra observa direito, com os estudos de Universidade grátis teria no Brasil mais jovens, qualificados trabalhando no mercado livre, É através dessas decisões e atitudes que a maioria dos jovens nao tem nem por começo o Português atualizado, se os mais ricos paracem de se importa com si mesmo, e observacem ao seu redor a população mais prejudicada que são a comunidade mais humilde, mais sincera e que sempre correr atrás dos seus direitos. Se pelo menos os jovens da população, mais pobre podecem ser ouvidos teria menos confusão e mais Jovens formados em Universidade e com o diploma na mão.Tudo isso e só falta de diálogo e atitudes decentes!!\n",
      "A educação e a formação universitária é o sonho de consumo de milhões de pessoas que desejam uma vida profissional bem sucedida ou uma vida acadêmica de sucesso. Para que isso se concretize são necessários anos de preparo, que se inicia no ensino fundamental e que se estende até o final do ensino médio; isso sem levar em consideração aqueles que optam por fazer um cursinho pré vestibular - muito devido a péssima qualidade do ensino público.Atualmente quem paga as despesas das universidades públicas brasileiras é a população como um todo por meio da arrecadação de impostos. O problema com esse modelo, é que tal sistema é extremamente injusto com a população mais pobre da sociedade. Essa forma de subsídio é injusta, uma vez que a cobrança de impostos é pelo consumo, a população mais pobre da sociedade acaba pagando maior parte da conta, ao mesmo tempo em que as cadeiras dos cursos universitários públicos são ocupados pela população que possui mais condições financeiras. Em outras palavra, o atual modelo de subsídio universitário é um gerador de desigualdade social.Uma das maneiras de alterar tal quadro seria o estado brasileiro copiar modelos que são adotados mundo a fora, como o caso do sistema universitário Norte americano, que além dos recursos públicos é subisidiado por doações anuais bilionárias de ex alunos, e também pelos alunos que possuem condições financeiras para bancar o valor integral ou parcial da sua formação acadêmica. Dessa forma, o estado não ficaria tão sobrecarregado com impostos e a população de baixa renda não seria tão prejudicada.Em virtude dos fatos mencionados, é de extrema urgência o estado brasileiro adotar outras formas de subsídio universitário, seja através da cobrança daqueles que possuem condições financeiras para bancar sua própria formação acadêmica, seja através de doações do setor privado, assim como ocorre nos Estados Unidos.\n"
     ]
    }
   ],
   "source": [
    "essay_train_dataset = essay_dataset_dict[\"train\"]\n",
    "essay_examples = essay_train_dataset.shuffle(23).select(range(3))[\"essay_text\"]\n",
    "for example in essay_examples:\n",
    "    print(example)"
   ]
  },
  {
   "cell_type": "code",
   "execution_count": 47,
   "metadata": {},
   "outputs": [
    {
     "data": {
      "text/plain": [
       "BertTokenizerFast(name_or_path='neuralmind/bert-base-portuguese-cased', vocab_size=29794, model_max_length=1000000000000000019884624838656, is_fast=True, padding_side='right', truncation_side='right', special_tokens={'unk_token': '[UNK]', 'sep_token': '[SEP]', 'pad_token': '[PAD]', 'cls_token': '[CLS]', 'mask_token': '[MASK]'}, clean_up_tokenization_spaces=True)"
      ]
     },
     "execution_count": 47,
     "metadata": {},
     "output_type": "execute_result"
    }
   ],
   "source": [
    "tokenizer = AutoTokenizer.from_pretrained(checkpoint, do_lower_case=False)\n",
    "tokenizer"
   ]
  },
  {
   "cell_type": "code",
   "execution_count": 48,
   "metadata": {},
   "outputs": [
    {
     "data": {
      "text/plain": [
       "['Em',\n",
       " '2014',\n",
       " ',',\n",
       " 'durante',\n",
       " 'o',\n",
       " 'governo',\n",
       " 'Dilma',\n",
       " 'Rousseff',\n",
       " ',',\n",
       " 'inicia',\n",
       " '##va',\n",
       " 'a',\n",
       " 'operação',\n",
       " 'Lava',\n",
       " 'Jato',\n",
       " 'que',\n",
       " 'tinha',\n",
       " 'o',\n",
       " 'objetivo',\n",
       " 'de']"
      ]
     },
     "execution_count": 48,
     "metadata": {},
     "output_type": "execute_result"
    }
   ],
   "source": [
    "tokenized_essays = []\n",
    "for essay in essay_examples:\n",
    "    tokenized_essay = tokenizer.tokenize([essay], is_split_into_words=True)\n",
    "    tokenized_essays.append(tokenized_essay)\n",
    "tokenized_essays[0][:20]"
   ]
  },
  {
   "cell_type": "markdown",
   "metadata": {},
   "source": [
    "## Fine-tuning para classificar nota em relação à abordagem do tema da redação"
   ]
  },
  {
   "cell_type": "code",
   "execution_count": 50,
   "metadata": {},
   "outputs": [
    {
     "name": "stdout",
     "output_type": "stream",
     "text": [
      "Dataset({\n",
      "    features: ['essay_id', 'essay_text', 'topic_id', 'topic_text', 'label'],\n",
      "    num_rows: 567\n",
      "})\n",
      "Dataset({\n",
      "    features: ['essay_id', 'essay_text', 'topic_id', 'topic_text', 'label'],\n",
      "    num_rows: 56\n",
      "})\n"
     ]
    }
   ],
   "source": [
    "dataset_dict = load_from_disk(processed_dataset_filepath)\n",
    "train_dataset = dataset_dict[\"train\"]\n",
    "test_dataset = dataset_dict[\"test\"]\n",
    "print(train_dataset)\n",
    "print(test_dataset)"
   ]
  },
  {
   "cell_type": "code",
   "execution_count": 51,
   "metadata": {},
   "outputs": [],
   "source": [
    "def tokenize_function(example):\n",
    "    inputs = tokenizer(\n",
    "        example[\"essay_text\"],\n",
    "        example[\"topic_text\"],\n",
    "        padding=True,\n",
    "        truncation=True,\n",
    "        max_length=512,\n",
    "        add_special_tokens=True,\n",
    "        return_tensors=\"pt\",\n",
    "    )\n",
    "    labels = torch.tensor(example[\"label\"])\n",
    "    return inputs, labels"
   ]
  },
  {
   "cell_type": "code",
   "execution_count": 52,
   "metadata": {},
   "outputs": [
    {
     "name": "stderr",
     "output_type": "stream",
     "text": [
      "Map:   0%|          | 0/567 [00:00<?, ? examples/s]"
     ]
    },
    {
     "name": "stderr",
     "output_type": "stream",
     "text": [
      "Map: 100%|██████████| 567/567 [00:01<00:00, 377.62 examples/s]\n",
      "Map: 100%|██████████| 56/56 [00:00<00:00, 277.34 examples/s]"
     ]
    },
    {
     "name": "stdout",
     "output_type": "stream",
     "text": [
      "Dataset({\n",
      "    features: ['essay_id', 'essay_text', 'topic_id', 'topic_text', 'label', 'input_ids', 'token_type_ids', 'attention_mask'],\n",
      "    num_rows: 567\n",
      "})\n",
      "Dataset({\n",
      "    features: ['essay_id', 'essay_text', 'topic_id', 'topic_text', 'label', 'input_ids', 'token_type_ids', 'attention_mask'],\n",
      "    num_rows: 56\n",
      "})\n"
     ]
    },
    {
     "name": "stderr",
     "output_type": "stream",
     "text": [
      "\n"
     ]
    }
   ],
   "source": [
    "tokenized_train_data = train_dataset.map(tokenize_function, batched=True, batch_size=32)\n",
    "tokenized_test_data = test_dataset.map(tokenize_function, batched=True, batch_size=32)\n",
    "print(tokenized_train_data)\n",
    "print(tokenized_test_data)"
   ]
  },
  {
   "cell_type": "code",
   "execution_count": 54,
   "metadata": {},
   "outputs": [],
   "source": [
    "def compute_metrics(eval_preds):\n",
    "    metric = evaluate.load(\"glue\", \"mrpc\")\n",
    "    logits, labels = eval_preds\n",
    "    predictions = np.argmax(logits, axis=-1)\n",
    "    return metric.compute(predictions=predictions, references=labels)"
   ]
  },
  {
   "cell_type": "code",
   "execution_count": 55,
   "metadata": {},
   "outputs": [
    {
     "name": "stderr",
     "output_type": "stream",
     "text": [
      "Some weights of BertForSequenceClassification were not initialized from the model checkpoint at neuralmind/bert-base-portuguese-cased and are newly initialized: ['classifier.weight', 'classifier.bias']\n",
      "You should probably TRAIN this model on a down-stream task to be able to use it for predictions and inference.\n"
     ]
    }
   ],
   "source": [
    "data_collator = DataCollatorWithPadding(tokenizer=tokenizer)\n",
    "\n",
    "training_args = TrainingArguments(\n",
    "    output_dir=\"topic_deviation_model\",\n",
    "    per_device_train_batch_size=32,\n",
    "    num_train_epochs=3,\n",
    "    evaluation_strategy=\"epoch\",\n",
    ")\n",
    "\n",
    "model = AutoModelForSequenceClassification.from_pretrained(checkpoint, num_labels=2)\n",
    "\n",
    "trainer = Trainer(\n",
    "    model,\n",
    "    training_args,\n",
    "    train_dataset=tokenized_train_data,\n",
    "    eval_dataset=tokenized_test_data,\n",
    "    data_collator=data_collator,\n",
    "    tokenizer=tokenizer,\n",
    "    compute_metrics=compute_metrics,\n",
    ")"
   ]
  },
  {
   "cell_type": "code",
   "execution_count": 209,
   "metadata": {},
   "outputs": [
    {
     "name": "stderr",
     "output_type": "stream",
     "text": []
    },
    {
     "name": "stderr",
     "output_type": "stream",
     "text": [
      "\n",
      "\u001b[A\n",
      "\u001b[A\n",
      "\u001b[A\n",
      "\u001b[A\n",
      "\u001b[A\n",
      "\u001b[A\n",
      "\u001b[A\n",
      "\u001b[A\n",
      "\u001b[A\n",
      "\u001b[A\n",
      "\u001b[A\n",
      "\u001b[A\n",
      "\n",
      "Downloading builder script: 100%|██████████| 5.75k/5.75k [00:00<00:00, 982kB/s]\n"
     ]
    },
    {
     "ename": "ImportError",
     "evalue": "To be able to use evaluate-metric/glue, you need to install the following dependencies['sklearn', 'scipy'] using 'pip install sklearn scipy' for instance'",
     "output_type": "error",
     "traceback": [
      "\u001b[0;31m---------------------------------------------------------------------------\u001b[0m",
      "\u001b[0;31mImportError\u001b[0m                               Traceback (most recent call last)",
      "\u001b[1;32m/home/mateuslatrova/dev/correcao-enem/first_experiment.ipynb Cell 86\u001b[0m line \u001b[0;36m1\n\u001b[0;32m----> <a href='vscode-notebook-cell:/home/mateuslatrova/dev/correcao-enem/first_experiment.ipynb#Y212sZmlsZQ%3D%3D?line=0'>1</a>\u001b[0m trainer\u001b[39m.\u001b[39;49mtrain()\n",
      "File \u001b[0;32m~/anaconda3/envs/enem/lib/python3.9/site-packages/transformers/trainer.py:1556\u001b[0m, in \u001b[0;36mTrainer.train\u001b[0;34m(self, resume_from_checkpoint, trial, ignore_keys_for_eval, **kwargs)\u001b[0m\n\u001b[1;32m   1554\u001b[0m         hf_hub_utils\u001b[39m.\u001b[39menable_progress_bars()\n\u001b[1;32m   1555\u001b[0m \u001b[39melse\u001b[39;00m:\n\u001b[0;32m-> 1556\u001b[0m     \u001b[39mreturn\u001b[39;00m inner_training_loop(\n\u001b[1;32m   1557\u001b[0m         args\u001b[39m=\u001b[39;49margs,\n\u001b[1;32m   1558\u001b[0m         resume_from_checkpoint\u001b[39m=\u001b[39;49mresume_from_checkpoint,\n\u001b[1;32m   1559\u001b[0m         trial\u001b[39m=\u001b[39;49mtrial,\n\u001b[1;32m   1560\u001b[0m         ignore_keys_for_eval\u001b[39m=\u001b[39;49mignore_keys_for_eval,\n\u001b[1;32m   1561\u001b[0m     )\n",
      "File \u001b[0;32m~/anaconda3/envs/enem/lib/python3.9/site-packages/transformers/trainer.py:1945\u001b[0m, in \u001b[0;36mTrainer._inner_training_loop\u001b[0;34m(self, batch_size, args, resume_from_checkpoint, trial, ignore_keys_for_eval)\u001b[0m\n\u001b[1;32m   1942\u001b[0m     \u001b[39mself\u001b[39m\u001b[39m.\u001b[39mcontrol\u001b[39m.\u001b[39mshould_training_stop \u001b[39m=\u001b[39m \u001b[39mTrue\u001b[39;00m\n\u001b[1;32m   1944\u001b[0m \u001b[39mself\u001b[39m\u001b[39m.\u001b[39mcontrol \u001b[39m=\u001b[39m \u001b[39mself\u001b[39m\u001b[39m.\u001b[39mcallback_handler\u001b[39m.\u001b[39mon_epoch_end(args, \u001b[39mself\u001b[39m\u001b[39m.\u001b[39mstate, \u001b[39mself\u001b[39m\u001b[39m.\u001b[39mcontrol)\n\u001b[0;32m-> 1945\u001b[0m \u001b[39mself\u001b[39;49m\u001b[39m.\u001b[39;49m_maybe_log_save_evaluate(tr_loss, model, trial, epoch, ignore_keys_for_eval)\n\u001b[1;32m   1947\u001b[0m \u001b[39mif\u001b[39;00m DebugOption\u001b[39m.\u001b[39mTPU_METRICS_DEBUG \u001b[39min\u001b[39;00m \u001b[39mself\u001b[39m\u001b[39m.\u001b[39margs\u001b[39m.\u001b[39mdebug:\n\u001b[1;32m   1948\u001b[0m     \u001b[39mif\u001b[39;00m is_torch_tpu_available():\n\u001b[1;32m   1949\u001b[0m         \u001b[39m# tpu-comment: Logging debug metrics for PyTorch/XLA (compile, execute times, ops, etc.)\u001b[39;00m\n",
      "File \u001b[0;32m~/anaconda3/envs/enem/lib/python3.9/site-packages/transformers/trainer.py:2257\u001b[0m, in \u001b[0;36mTrainer._maybe_log_save_evaluate\u001b[0;34m(self, tr_loss, model, trial, epoch, ignore_keys_for_eval)\u001b[0m\n\u001b[1;32m   2255\u001b[0m         metrics\u001b[39m.\u001b[39mupdate(dataset_metrics)\n\u001b[1;32m   2256\u001b[0m \u001b[39melse\u001b[39;00m:\n\u001b[0;32m-> 2257\u001b[0m     metrics \u001b[39m=\u001b[39m \u001b[39mself\u001b[39;49m\u001b[39m.\u001b[39;49mevaluate(ignore_keys\u001b[39m=\u001b[39;49mignore_keys_for_eval)\n\u001b[1;32m   2258\u001b[0m \u001b[39mself\u001b[39m\u001b[39m.\u001b[39m_report_to_hp_search(trial, \u001b[39mself\u001b[39m\u001b[39m.\u001b[39mstate\u001b[39m.\u001b[39mglobal_step, metrics)\n\u001b[1;32m   2260\u001b[0m \u001b[39m# Run delayed LR scheduler now that metrics are populated\u001b[39;00m\n",
      "File \u001b[0;32m~/anaconda3/envs/enem/lib/python3.9/site-packages/transformers/trainer.py:2982\u001b[0m, in \u001b[0;36mTrainer.evaluate\u001b[0;34m(self, eval_dataset, ignore_keys, metric_key_prefix)\u001b[0m\n\u001b[1;32m   2979\u001b[0m start_time \u001b[39m=\u001b[39m time\u001b[39m.\u001b[39mtime()\n\u001b[1;32m   2981\u001b[0m eval_loop \u001b[39m=\u001b[39m \u001b[39mself\u001b[39m\u001b[39m.\u001b[39mprediction_loop \u001b[39mif\u001b[39;00m \u001b[39mself\u001b[39m\u001b[39m.\u001b[39margs\u001b[39m.\u001b[39muse_legacy_prediction_loop \u001b[39melse\u001b[39;00m \u001b[39mself\u001b[39m\u001b[39m.\u001b[39mevaluation_loop\n\u001b[0;32m-> 2982\u001b[0m output \u001b[39m=\u001b[39m eval_loop(\n\u001b[1;32m   2983\u001b[0m     eval_dataloader,\n\u001b[1;32m   2984\u001b[0m     description\u001b[39m=\u001b[39;49m\u001b[39m\"\u001b[39;49m\u001b[39mEvaluation\u001b[39;49m\u001b[39m\"\u001b[39;49m,\n\u001b[1;32m   2985\u001b[0m     \u001b[39m# No point gathering the predictions if there are no metrics, otherwise we defer to\u001b[39;49;00m\n\u001b[1;32m   2986\u001b[0m     \u001b[39m# self.args.prediction_loss_only\u001b[39;49;00m\n\u001b[1;32m   2987\u001b[0m     prediction_loss_only\u001b[39m=\u001b[39;49m\u001b[39mTrue\u001b[39;49;00m \u001b[39mif\u001b[39;49;00m \u001b[39mself\u001b[39;49m\u001b[39m.\u001b[39;49mcompute_metrics \u001b[39mis\u001b[39;49;00m \u001b[39mNone\u001b[39;49;00m \u001b[39melse\u001b[39;49;00m \u001b[39mNone\u001b[39;49;00m,\n\u001b[1;32m   2988\u001b[0m     ignore_keys\u001b[39m=\u001b[39;49mignore_keys,\n\u001b[1;32m   2989\u001b[0m     metric_key_prefix\u001b[39m=\u001b[39;49mmetric_key_prefix,\n\u001b[1;32m   2990\u001b[0m )\n\u001b[1;32m   2992\u001b[0m total_batch_size \u001b[39m=\u001b[39m \u001b[39mself\u001b[39m\u001b[39m.\u001b[39margs\u001b[39m.\u001b[39meval_batch_size \u001b[39m*\u001b[39m \u001b[39mself\u001b[39m\u001b[39m.\u001b[39margs\u001b[39m.\u001b[39mworld_size\n\u001b[1;32m   2993\u001b[0m \u001b[39mif\u001b[39;00m \u001b[39mf\u001b[39m\u001b[39m\"\u001b[39m\u001b[39m{\u001b[39;00mmetric_key_prefix\u001b[39m}\u001b[39;00m\u001b[39m_jit_compilation_time\u001b[39m\u001b[39m\"\u001b[39m \u001b[39min\u001b[39;00m output\u001b[39m.\u001b[39mmetrics:\n",
      "File \u001b[0;32m~/anaconda3/envs/enem/lib/python3.9/site-packages/transformers/trainer.py:3275\u001b[0m, in \u001b[0;36mTrainer.evaluation_loop\u001b[0;34m(self, dataloader, description, prediction_loss_only, ignore_keys, metric_key_prefix)\u001b[0m\n\u001b[1;32m   3271\u001b[0m         metrics \u001b[39m=\u001b[39m \u001b[39mself\u001b[39m\u001b[39m.\u001b[39mcompute_metrics(\n\u001b[1;32m   3272\u001b[0m             EvalPrediction(predictions\u001b[39m=\u001b[39mall_preds, label_ids\u001b[39m=\u001b[39mall_labels, inputs\u001b[39m=\u001b[39mall_inputs)\n\u001b[1;32m   3273\u001b[0m         )\n\u001b[1;32m   3274\u001b[0m     \u001b[39melse\u001b[39;00m:\n\u001b[0;32m-> 3275\u001b[0m         metrics \u001b[39m=\u001b[39m \u001b[39mself\u001b[39;49m\u001b[39m.\u001b[39;49mcompute_metrics(EvalPrediction(predictions\u001b[39m=\u001b[39;49mall_preds, label_ids\u001b[39m=\u001b[39;49mall_labels))\n\u001b[1;32m   3276\u001b[0m \u001b[39melse\u001b[39;00m:\n\u001b[1;32m   3277\u001b[0m     metrics \u001b[39m=\u001b[39m {}\n",
      "\u001b[1;32m/home/mateuslatrova/dev/correcao-enem/first_experiment.ipynb Cell 86\u001b[0m line \u001b[0;36m2\n\u001b[1;32m      <a href='vscode-notebook-cell:/home/mateuslatrova/dev/correcao-enem/first_experiment.ipynb#Y212sZmlsZQ%3D%3D?line=0'>1</a>\u001b[0m \u001b[39mdef\u001b[39;00m \u001b[39mcompute_metrics\u001b[39m(eval_preds):\n\u001b[0;32m----> <a href='vscode-notebook-cell:/home/mateuslatrova/dev/correcao-enem/first_experiment.ipynb#Y212sZmlsZQ%3D%3D?line=1'>2</a>\u001b[0m     metric \u001b[39m=\u001b[39m evaluate\u001b[39m.\u001b[39;49mload(\u001b[39m\"\u001b[39;49m\u001b[39mglue\u001b[39;49m\u001b[39m\"\u001b[39;49m, \u001b[39m\"\u001b[39;49m\u001b[39mmrpc\u001b[39;49m\u001b[39m\"\u001b[39;49m)\n\u001b[1;32m      <a href='vscode-notebook-cell:/home/mateuslatrova/dev/correcao-enem/first_experiment.ipynb#Y212sZmlsZQ%3D%3D?line=2'>3</a>\u001b[0m     logits, labels \u001b[39m=\u001b[39m eval_preds\n\u001b[1;32m      <a href='vscode-notebook-cell:/home/mateuslatrova/dev/correcao-enem/first_experiment.ipynb#Y212sZmlsZQ%3D%3D?line=3'>4</a>\u001b[0m     predictions \u001b[39m=\u001b[39m np\u001b[39m.\u001b[39margmax(logits, axis\u001b[39m=\u001b[39m\u001b[39m-\u001b[39m\u001b[39m1\u001b[39m)\n",
      "File \u001b[0;32m~/anaconda3/envs/enem/lib/python3.9/site-packages/evaluate/loading.py:731\u001b[0m, in \u001b[0;36mload\u001b[0;34m(path, config_name, module_type, process_id, num_process, cache_dir, experiment_id, keep_in_memory, download_config, download_mode, revision, **init_kwargs)\u001b[0m\n\u001b[1;32m    703\u001b[0m \u001b[39m\u001b[39m\u001b[39m\"\"\"Load a `evaluate.EvaluationModule`.\u001b[39;00m\n\u001b[1;32m    704\u001b[0m \n\u001b[1;32m    705\u001b[0m \u001b[39mArgs:\u001b[39;00m\n\u001b[0;32m   (...)\u001b[0m\n\u001b[1;32m    728\u001b[0m \u001b[39m    `evaluate.EvaluationModule`\u001b[39;00m\n\u001b[1;32m    729\u001b[0m \u001b[39m\"\"\"\u001b[39;00m\n\u001b[1;32m    730\u001b[0m download_mode \u001b[39m=\u001b[39m DownloadMode(download_mode \u001b[39mor\u001b[39;00m DownloadMode\u001b[39m.\u001b[39mREUSE_DATASET_IF_EXISTS)\n\u001b[0;32m--> 731\u001b[0m evaluation_module \u001b[39m=\u001b[39m evaluation_module_factory(\n\u001b[1;32m    732\u001b[0m     path, module_type\u001b[39m=\u001b[39;49mmodule_type, revision\u001b[39m=\u001b[39;49mrevision, download_config\u001b[39m=\u001b[39;49mdownload_config, download_mode\u001b[39m=\u001b[39;49mdownload_mode\n\u001b[1;32m    733\u001b[0m )\n\u001b[1;32m    734\u001b[0m evaluation_cls \u001b[39m=\u001b[39m import_main_class(evaluation_module\u001b[39m.\u001b[39mmodule_path)\n\u001b[1;32m    735\u001b[0m evaluation_instance \u001b[39m=\u001b[39m evaluation_cls(\n\u001b[1;32m    736\u001b[0m     config_name\u001b[39m=\u001b[39mconfig_name,\n\u001b[1;32m    737\u001b[0m     process_id\u001b[39m=\u001b[39mprocess_id,\n\u001b[0;32m   (...)\u001b[0m\n\u001b[1;32m    743\u001b[0m     \u001b[39m*\u001b[39m\u001b[39m*\u001b[39minit_kwargs,\n\u001b[1;32m    744\u001b[0m )\n",
      "File \u001b[0;32m~/anaconda3/envs/enem/lib/python3.9/site-packages/evaluate/loading.py:680\u001b[0m, in \u001b[0;36mevaluation_module_factory\u001b[0;34m(path, module_type, revision, download_config, download_mode, force_local_path, dynamic_modules_path, **download_kwargs)\u001b[0m\n\u001b[1;32m    678\u001b[0m                 \u001b[39mpass\u001b[39;00m\n\u001b[1;32m    679\u001b[0m         \u001b[39mif\u001b[39;00m \u001b[39mnot\u001b[39;00m \u001b[39misinstance\u001b[39m(e1, (\u001b[39mConnectionError\u001b[39;00m, \u001b[39mFileNotFoundError\u001b[39;00m)):\n\u001b[0;32m--> 680\u001b[0m             \u001b[39mraise\u001b[39;00m e1 \u001b[39mfrom\u001b[39;00m \u001b[39mNone\u001b[39;00m\n\u001b[1;32m    681\u001b[0m         \u001b[39mraise\u001b[39;00m \u001b[39mFileNotFoundError\u001b[39;00m(\n\u001b[1;32m    682\u001b[0m             \u001b[39mf\u001b[39m\u001b[39m\"\u001b[39m\u001b[39mCouldn\u001b[39m\u001b[39m'\u001b[39m\u001b[39mt find a module script at \u001b[39m\u001b[39m{\u001b[39;00mrelative_to_absolute_path(combined_path)\u001b[39m}\u001b[39;00m\u001b[39m. \u001b[39m\u001b[39m\"\u001b[39m\n\u001b[1;32m    683\u001b[0m             \u001b[39mf\u001b[39m\u001b[39m\"\u001b[39m\u001b[39mModule \u001b[39m\u001b[39m'\u001b[39m\u001b[39m{\u001b[39;00mpath\u001b[39m}\u001b[39;00m\u001b[39m'\u001b[39m\u001b[39m doesn\u001b[39m\u001b[39m'\u001b[39m\u001b[39mt exist on the Hugging Face Hub either.\u001b[39m\u001b[39m\"\u001b[39m\n\u001b[1;32m    684\u001b[0m         ) \u001b[39mfrom\u001b[39;00m \u001b[39mNone\u001b[39;00m\n\u001b[1;32m    685\u001b[0m \u001b[39melse\u001b[39;00m:\n",
      "File \u001b[0;32m~/anaconda3/envs/enem/lib/python3.9/site-packages/evaluate/loading.py:633\u001b[0m, in \u001b[0;36mevaluation_module_factory\u001b[0;34m(path, module_type, revision, download_config, download_mode, force_local_path, dynamic_modules_path, **download_kwargs)\u001b[0m\n\u001b[1;32m    631\u001b[0m \u001b[39mfor\u001b[39;00m current_type \u001b[39min\u001b[39;00m [\u001b[39m\"\u001b[39m\u001b[39mmetric\u001b[39m\u001b[39m\"\u001b[39m, \u001b[39m\"\u001b[39m\u001b[39mcomparison\u001b[39m\u001b[39m\"\u001b[39m, \u001b[39m\"\u001b[39m\u001b[39mmeasurement\u001b[39m\u001b[39m\"\u001b[39m]:\n\u001b[1;32m    632\u001b[0m     \u001b[39mtry\u001b[39;00m:\n\u001b[0;32m--> 633\u001b[0m         \u001b[39mreturn\u001b[39;00m HubEvaluationModuleFactory(\n\u001b[1;32m    634\u001b[0m             \u001b[39mf\u001b[39;49m\u001b[39m\"\u001b[39;49m\u001b[39mevaluate-\u001b[39;49m\u001b[39m{\u001b[39;49;00mcurrent_type\u001b[39m}\u001b[39;49;00m\u001b[39m/\u001b[39;49m\u001b[39m{\u001b[39;49;00mpath\u001b[39m}\u001b[39;49;00m\u001b[39m\"\u001b[39;49m,\n\u001b[1;32m    635\u001b[0m             revision\u001b[39m=\u001b[39;49mrevision,\n\u001b[1;32m    636\u001b[0m             download_config\u001b[39m=\u001b[39;49mdownload_config,\n\u001b[1;32m    637\u001b[0m             download_mode\u001b[39m=\u001b[39;49mdownload_mode,\n\u001b[1;32m    638\u001b[0m             dynamic_modules_path\u001b[39m=\u001b[39;49mdynamic_modules_path,\n\u001b[1;32m    639\u001b[0m         )\u001b[39m.\u001b[39;49mget_module()\n\u001b[1;32m    640\u001b[0m     \u001b[39mexcept\u001b[39;00m \u001b[39mConnectionError\u001b[39;00m:\n\u001b[1;32m    641\u001b[0m         \u001b[39mpass\u001b[39;00m\n",
      "File \u001b[0;32m~/anaconda3/envs/enem/lib/python3.9/site-packages/evaluate/loading.py:489\u001b[0m, in \u001b[0;36mHubEvaluationModuleFactory.get_module\u001b[0;34m(self)\u001b[0m\n\u001b[1;32m    486\u001b[0m         \u001b[39mraise\u001b[39;00m err\n\u001b[1;32m    488\u001b[0m imports \u001b[39m=\u001b[39m get_imports(local_path)\n\u001b[0;32m--> 489\u001b[0m local_imports \u001b[39m=\u001b[39m _download_additional_modules(\n\u001b[1;32m    490\u001b[0m     name\u001b[39m=\u001b[39;49m\u001b[39mself\u001b[39;49m\u001b[39m.\u001b[39;49mname,\n\u001b[1;32m    491\u001b[0m     base_path\u001b[39m=\u001b[39;49mhf_hub_url(path\u001b[39m=\u001b[39;49m\u001b[39mself\u001b[39;49m\u001b[39m.\u001b[39;49mname, name\u001b[39m=\u001b[39;49m\u001b[39m\"\u001b[39;49m\u001b[39m\"\u001b[39;49m, revision\u001b[39m=\u001b[39;49mrevision),\n\u001b[1;32m    492\u001b[0m     imports\u001b[39m=\u001b[39;49mimports,\n\u001b[1;32m    493\u001b[0m     download_config\u001b[39m=\u001b[39;49m\u001b[39mself\u001b[39;49m\u001b[39m.\u001b[39;49mdownload_config,\n\u001b[1;32m    494\u001b[0m )\n\u001b[1;32m    495\u001b[0m \u001b[39m# copy the script and the files in an importable directory\u001b[39;00m\n\u001b[1;32m    496\u001b[0m dynamic_modules_path \u001b[39m=\u001b[39m \u001b[39mself\u001b[39m\u001b[39m.\u001b[39mdynamic_modules_path \u001b[39mif\u001b[39;00m \u001b[39mself\u001b[39m\u001b[39m.\u001b[39mdynamic_modules_path \u001b[39melse\u001b[39;00m init_dynamic_modules()\n",
      "File \u001b[0;32m~/anaconda3/envs/enem/lib/python3.9/site-packages/evaluate/loading.py:265\u001b[0m, in \u001b[0;36m_download_additional_modules\u001b[0;34m(name, base_path, imports, download_config)\u001b[0m\n\u001b[1;32m    263\u001b[0m         needs_to_be_installed\u001b[39m.\u001b[39madd((library_import_name, library_import_path))\n\u001b[1;32m    264\u001b[0m \u001b[39mif\u001b[39;00m needs_to_be_installed:\n\u001b[0;32m--> 265\u001b[0m     \u001b[39mraise\u001b[39;00m \u001b[39mImportError\u001b[39;00m(\n\u001b[1;32m    266\u001b[0m         \u001b[39mf\u001b[39m\u001b[39m\"\u001b[39m\u001b[39mTo be able to use \u001b[39m\u001b[39m{\u001b[39;00mname\u001b[39m}\u001b[39;00m\u001b[39m, you need to install the following dependencies\u001b[39m\u001b[39m\"\u001b[39m\n\u001b[1;32m    267\u001b[0m         \u001b[39mf\u001b[39m\u001b[39m\"\u001b[39m\u001b[39m{\u001b[39;00m[lib_name\u001b[39m \u001b[39m\u001b[39mfor\u001b[39;00m\u001b[39m \u001b[39mlib_name,\u001b[39m \u001b[39mlib_path\u001b[39m \u001b[39m\u001b[39min\u001b[39;00m\u001b[39m \u001b[39mneeds_to_be_installed]\u001b[39m}\u001b[39;00m\u001b[39m using \u001b[39m\u001b[39m'\u001b[39m\u001b[39mpip install \u001b[39m\u001b[39m\"\u001b[39m\n\u001b[1;32m    268\u001b[0m         \u001b[39mf\u001b[39m\u001b[39m\"\u001b[39m\u001b[39m{\u001b[39;00m\u001b[39m'\u001b[39m\u001b[39m \u001b[39m\u001b[39m'\u001b[39m\u001b[39m.\u001b[39mjoin([lib_path\u001b[39m \u001b[39m\u001b[39mfor\u001b[39;00m\u001b[39m \u001b[39mlib_name,\u001b[39m \u001b[39mlib_path\u001b[39m \u001b[39m\u001b[39min\u001b[39;00m\u001b[39m \u001b[39mneeds_to_be_installed])\u001b[39m}\u001b[39;00m\u001b[39m'\u001b[39m\u001b[39m for instance\u001b[39m\u001b[39m'\u001b[39m\u001b[39m\"\u001b[39m\n\u001b[1;32m    269\u001b[0m     )\n\u001b[1;32m    270\u001b[0m \u001b[39mreturn\u001b[39;00m local_imports\n",
      "\u001b[0;31mImportError\u001b[0m: To be able to use evaluate-metric/glue, you need to install the following dependencies['sklearn', 'scipy'] using 'pip install sklearn scipy' for instance'"
     ]
    }
   ],
   "source": [
    "trainer.train()"
   ]
  },
  {
   "cell_type": "code",
   "execution_count": null,
   "metadata": {},
   "outputs": [],
   "source": [
    "trainer.evaluate()"
   ]
  },
  {
   "cell_type": "code",
   "execution_count": null,
   "metadata": {},
   "outputs": [],
   "source": [
    "trainer.save_model()"
   ]
  }
 ],
 "metadata": {
  "kernelspec": {
   "display_name": "enem",
   "language": "python",
   "name": "python3"
  },
  "language_info": {
   "codemirror_mode": {
    "name": "ipython",
    "version": 3
   },
   "file_extension": ".py",
   "mimetype": "text/x-python",
   "name": "python",
   "nbconvert_exporter": "python",
   "pygments_lexer": "ipython3",
   "version": "3.9.18"
  },
  "orig_nbformat": 4
 },
 "nbformat": 4,
 "nbformat_minor": 2
}
